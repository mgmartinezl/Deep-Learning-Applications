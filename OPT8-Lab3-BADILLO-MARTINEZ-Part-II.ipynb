{
 "cells": [
  {
   "cell_type": "markdown",
   "metadata": {},
   "source": [
    "### Part II: Variational AutoEncoder (MNIST data)"
   ]
  },
  {
   "cell_type": "code",
   "execution_count": 32,
   "metadata": {},
   "outputs": [],
   "source": [
    "import os\n",
    "import torch\n",
    "import torch.nn as nn\n",
    "import torch.optim as optim\n",
    "import torch.nn.functional as F\n",
    "import matplotlib.pyplot as plt\n",
    "\n",
    "from torch.utils.data import DataLoader\n",
    "\n",
    "# We need to install the package 'torchvision' >> pip install torchvision\n",
    "from torchvision import datasets, transforms"
   ]
  },
  {
   "cell_type": "code",
   "execution_count": 33,
   "metadata": {},
   "outputs": [],
   "source": [
    "# The code can run on gpu (or) cpu, we can use the gpu if available. \n",
    "device = torch.device('cuda' if torch.cuda.is_available() else 'cpu')"
   ]
  },
  {
   "cell_type": "code",
   "execution_count": 75,
   "metadata": {},
   "outputs": [],
   "source": [
    "BATCH_SIZE = 128         # number of data points in each batch\n",
    "N_EPOCHS = 50           # times to run the model on complete data\n",
    "INPUT_DIM = 28 * 28     # size of each input\n",
    "HIDDEN_DIM = 100        # hidden dimension\n",
    "LATENT_DIM = 2         # latent vector dimension\n",
    "lr = 1e-3               # learning rate"
   ]
  },
  {
   "cell_type": "code",
   "execution_count": 38,
   "metadata": {},
   "outputs": [],
   "source": [
    "# To transform images into Tensors\n",
    "transforms2 = transforms.Compose([transforms.ToTensor()])\n",
    "\n",
    "train_dataset = datasets.MNIST(\n",
    "    './data',\n",
    "    train=True,\n",
    "    download=True,\n",
    "    transform=transforms2)\n",
    "\n",
    "test_dataset = datasets.MNIST(\n",
    "    './data',\n",
    "    train=False,\n",
    "    download=True,\n",
    "    transform=transforms2\n",
    ")"
   ]
  },
  {
   "cell_type": "code",
   "execution_count": 39,
   "metadata": {},
   "outputs": [],
   "source": [
    "train_iterator = DataLoader(train_dataset, batch_size=BATCH_SIZE, shuffle=True)\n",
    "test_iterator = DataLoader(test_dataset, batch_size=BATCH_SIZE)"
   ]
  },
  {
   "cell_type": "code",
   "execution_count": 53,
   "metadata": {},
   "outputs": [],
   "source": [
    "class Encoder(nn.Module):\n",
    "\n",
    "    def __init__(self, input_dim, hidden_dim, z_dim):\n",
    "        \n",
    "        '''\n",
    "        Args:\n",
    "            input_dim: A integer indicating the size of input (in case of MNIST 28 * 28).\n",
    "            hidden_dim: A integer indicating the size of hidden dimension.\n",
    "            z_dim: A integer indicating the latent dimension.\n",
    "        '''\n",
    "        \n",
    "        super().__init__()\n",
    "\n",
    "        self.linear = nn.Linear(input_dim, hidden_dim)\n",
    "        self.mu = nn.Linear(hidden_dim, z_dim)\n",
    "        self.var = nn.Linear(hidden_dim, z_dim)\n",
    "\n",
    "    def forward(self, x):\n",
    "        \n",
    "        # x is of shape [batch_size, input_dim]\n",
    "        hidden = F.relu(self.linear(x))\n",
    "        \n",
    "        # hidden is of shape [batch_size, hidden_dim]\n",
    "        z_mu = self.mu(hidden)\n",
    "        \n",
    "        # z_mu is of shape [batch_size, latent_dim]\n",
    "        z_var = self.var(hidden)\n",
    "        \n",
    "        # z_var is of shape [batch_size, latent_dim]\n",
    "        return z_mu, z_var\n",
    "\n",
    "    \n",
    "class Decoder(nn.Module):\n",
    "\n",
    "    def __init__(self, z_dim, hidden_dim, output_dim):\n",
    "        \n",
    "        '''\n",
    "        Args:\n",
    "            z_dim: A integer indicating the latent size.\n",
    "            hidden_dim: A integer indicating the size of hidden dimension.\n",
    "            output_dim: A integer indicating the output dimension (in case of MNIST it is 28 * 28)\n",
    "        '''\n",
    "        \n",
    "        super().__init__()\n",
    "\n",
    "        self.linear = nn.Linear(z_dim, hidden_dim)\n",
    "        self.out = nn.Linear(hidden_dim, output_dim)\n",
    "\n",
    "    def forward(self, x):\n",
    "        \n",
    "        # x is of shape [batch_size, latent_dim]\n",
    "        hidden = F.relu(self.linear(x))\n",
    "        \n",
    "        # hidden is of shape [batch_size, hidden_dim]\n",
    "        predicted = torch.sigmoid(self.out(hidden))\n",
    "        \n",
    "        # predicted is of shape [batch_size, output_dim]\n",
    "        return predicted\n",
    "\n",
    "    \n",
    "class VAE(nn.Module):\n",
    "    \n",
    "    def __init__(self, enc, dec):\n",
    "        \n",
    "        super().__init__()\n",
    "        \n",
    "        self.enc = enc\n",
    "        self.dec = dec\n",
    "\n",
    "    def forward(self, x):\n",
    "        \n",
    "        # encode\n",
    "        z_mu, z_var = self.enc(x)\n",
    "\n",
    "        # sample from the distribution having latent parameters z_mu, z_var\n",
    "        # reparameterize\n",
    "        std = torch.sqrt( torch.exp( z_var ) )\n",
    "        eps = torch.normal(0, 1., z_mu.shape)\n",
    "        x_sample = z_mu + eps * std\n",
    "\n",
    "        # decode\n",
    "        predicted = self.dec(x_sample)\n",
    "        return predicted, z_mu, z_var"
   ]
  },
  {
   "cell_type": "code",
   "execution_count": 62,
   "metadata": {},
   "outputs": [],
   "source": [
    "# encoder\n",
    "encoder = Encoder(INPUT_DIM, HIDDEN_DIM, LATENT_DIM)\n",
    "\n",
    "# decoder\n",
    "decoder = Decoder(LATENT_DIM, HIDDEN_DIM, INPUT_DIM)\n",
    "\n",
    "# vae\n",
    "model = VAE(encoder, decoder).to(device)\n",
    "\n",
    "# optimizer\n",
    "optimizer = optim.Adam(model.parameters(), lr=lr)"
   ]
  },
  {
   "cell_type": "code",
   "execution_count": 63,
   "metadata": {},
   "outputs": [],
   "source": [
    "# Reconstruction + KL divergence losses summed over all elements and batch\n",
    "def loss_function(reconstruction_x, x, z_mean, z_var):\n",
    "    \n",
    "    # reconstruction loss\n",
    "    BCE = F.binary_cross_entropy(reconstruction_x, x.view(-1, 784), reduction='sum')\n",
    "    # kl divergence loss\n",
    "    KLD = -0.5 * torch.sum(1 + z_var - z_mean.pow(2) - z_var.exp())\n",
    "\n",
    "    return BCE + KLD\n"
   ]
  },
  {
   "cell_type": "code",
   "execution_count": 73,
   "metadata": {},
   "outputs": [],
   "source": [
    "def train():\n",
    "    # set the train mode\n",
    "    model.train()\n",
    "    torch.nn.utils.clip_grad_value_(model.parameters(), 5.)\n",
    "    # loss of the epoch\n",
    "    train_loss = 0\n",
    "\n",
    "    for i, (x, _) in enumerate(train_iterator):\n",
    "        \n",
    "        # reshape the data into [batch_size, 784]\n",
    "        x = x.view(-1, 28 * 28)\n",
    "        x = x.to(device)\n",
    "\n",
    "        # update the gradients to zero\n",
    "        optimizer.zero_grad()\n",
    "\n",
    "        # forward pass\n",
    "        x_sample, z_mu, z_var = model(x)\n",
    "\n",
    "        # total loss\n",
    "        loss = loss_function( x_sample, x, z_mu, z_var )\n",
    "\n",
    "        # backward pass\n",
    "        loss.backward()\n",
    "        train_loss += loss.item()\n",
    "\n",
    "        # update the weights\n",
    "        optimizer.step()\n",
    "\n",
    "    return train_loss"
   ]
  },
  {
   "cell_type": "code",
   "execution_count": 74,
   "metadata": {},
   "outputs": [],
   "source": [
    "def test():\n",
    "    \n",
    "    # set the evaluation mode\n",
    "    model.eval()\n",
    "\n",
    "    # test loss for the data\n",
    "    test_loss = 0\n",
    "\n",
    "    # we don't need to track the gradients, since we are not updating the parameters during evaluation / testing\n",
    "    with torch.no_grad():\n",
    "        for i, (x, _) in enumerate(test_iterator):\n",
    "            \n",
    "            # reshape the data\n",
    "            x = x.view(-1, 28 * 28)\n",
    "            x = x.to(device)\n",
    "\n",
    "            # forward pass\n",
    "            x_sample, z_mu, z_var = model(x)\n",
    "\n",
    "            # total loss\n",
    "            loss = loss_function( x_sample, x, z_mu, z_var )\n",
    "            test_loss += loss.item()\n",
    "\n",
    "    return test_loss"
   ]
  },
  {
   "cell_type": "code",
   "execution_count": 76,
   "metadata": {},
   "outputs": [
    {
     "name": "stdout",
     "output_type": "stream",
     "text": [
      ">> epoch  0\n",
      "---> Train loss: >>  157.74658325195313\n",
      "-----> Test loss: >>  157.2548311279297\n",
      "\n",
      ">> epoch  1\n",
      "---> Train loss: >>  157.29146421712238\n",
      "-----> Test loss: >>  157.0645449951172\n",
      "\n",
      ">> epoch  2\n",
      "---> Train loss: >>  156.8042684407552\n",
      "-----> Test loss: >>  156.65581154785156\n",
      "\n",
      ">> epoch  3\n",
      "---> Train loss: >>  156.45137751464844\n",
      "-----> Test loss: >>  156.27007868652345\n",
      "\n",
      ">> epoch  4\n",
      "---> Train loss: >>  156.0243783203125\n",
      "-----> Test loss: >>  156.13427192382812\n",
      "\n",
      ">> epoch  5\n",
      "---> Train loss: >>  155.71597561848958\n",
      "-----> Test loss: >>  155.78206591796874\n",
      "\n",
      ">> epoch  6\n",
      "---> Train loss: >>  155.366953125\n",
      "-----> Test loss: >>  155.63424411621094\n",
      "\n",
      ">> epoch  7\n",
      "---> Train loss: >>  155.11741905110676\n",
      "-----> Test loss: >>  155.26793122558593\n",
      "\n",
      ">> epoch  8\n",
      "---> Train loss: >>  154.86954886067707\n",
      "-----> Test loss: >>  155.06950092773437\n",
      "\n",
      ">> epoch  9\n",
      "---> Train loss: >>  154.55076381022135\n",
      "-----> Test loss: >>  155.02514033203124\n",
      "\n",
      ">> epoch  10\n",
      "---> Train loss: >>  154.3560065266927\n",
      "-----> Test loss: >>  154.92872426757813\n",
      "\n",
      ">> epoch  11\n",
      "---> Train loss: >>  154.10262221679687\n",
      "-----> Test loss: >>  154.60569440917968\n",
      "\n",
      ">> epoch  12\n",
      "---> Train loss: >>  153.8969726969401\n",
      "-----> Test loss: >>  154.42687290039063\n",
      "\n",
      ">> epoch  13\n",
      "---> Train loss: >>  153.6858494873047\n",
      "-----> Test loss: >>  154.33564643554686\n",
      "\n",
      ">> epoch  14\n",
      "---> Train loss: >>  153.4665316731771\n",
      "-----> Test loss: >>  154.10017705078124\n",
      "\n",
      ">> epoch  15\n",
      "---> Train loss: >>  153.29511510416665\n",
      "-----> Test loss: >>  153.8046461669922\n",
      "\n",
      ">> epoch  16\n",
      "---> Train loss: >>  153.1065796386719\n",
      "-----> Test loss: >>  153.84958583984374\n",
      "\n",
      ">> epoch  17\n",
      "---> Train loss: >>  152.9441436360677\n",
      "-----> Test loss: >>  153.89454182128907\n",
      "\n",
      ">> epoch  18\n",
      "---> Train loss: >>  152.79272880045573\n",
      "-----> Test loss: >>  153.6610074707031\n",
      "\n",
      ">> epoch  19\n",
      "---> Train loss: >>  152.64397416178386\n",
      "-----> Test loss: >>  153.48722006835936\n",
      "\n",
      ">> epoch  20\n",
      "---> Train loss: >>  152.47415965983072\n",
      "-----> Test loss: >>  153.4179908203125\n",
      "\n",
      ">> epoch  21\n",
      "---> Train loss: >>  152.33383243001302\n",
      "-----> Test loss: >>  153.25876982421875\n",
      "\n",
      ">> epoch  22\n",
      "---> Train loss: >>  152.20410948079427\n",
      "-----> Test loss: >>  153.17697377929687\n",
      "\n",
      ">> epoch  23\n",
      "---> Train loss: >>  152.06431573079428\n",
      "-----> Test loss: >>  153.23994296875\n",
      "\n",
      ">> epoch  24\n",
      "---> Train loss: >>  151.9549132324219\n",
      "-----> Test loss: >>  153.2322388671875\n",
      "\n",
      ">> epoch  25\n",
      "---> Train loss: >>  151.88778770345053\n",
      "-----> Test loss: >>  153.36232990722655\n",
      "\n"
     ]
    }
   ],
   "source": [
    "best_test_loss = float('inf')\n",
    "\n",
    "for epoch in range(N_EPOCHS):\n",
    "\n",
    "    train_loss = train()\n",
    "    test_loss = test()\n",
    "\n",
    "    train_loss /= len(train_dataset)\n",
    "    test_loss /= len(test_dataset)\n",
    "    \n",
    "    print('>> epoch ', epoch)\n",
    "    print('---> Train loss: >> ', train_loss)\n",
    "    print('-----> Test loss: >> ', test_loss)\n",
    "    print('')\n",
    "\n",
    "    if best_test_loss > test_loss:\n",
    "        best_test_loss = test_loss\n",
    "        patience_counter = 1\n",
    "    else:\n",
    "        patience_counter += 1\n",
    "\n",
    "    if patience_counter > 3:\n",
    "        break"
   ]
  },
  {
   "cell_type": "code",
   "execution_count": 77,
   "metadata": {},
   "outputs": [
    {
     "name": "stdout",
     "output_type": "stream",
     "text": [
      "torch.Size([1, 2])\n",
      "torch.Size([28, 28])\n"
     ]
    },
    {
     "data": {
      "image/png": "[encoded data removed]",
      "text/plain": [
       "<Figure size 432x288 with 1 Axes>"
      ]
     },
     "metadata": {
      "needs_background": "light"
     },
     "output_type": "display_data"
    }
   ],
   "source": [
    "# Choose an image to generate and plot\n",
    "z = torch.randn(1, LATENT_DIM).to(device)\n",
    "reconstructed_img = model.dec(z)\n",
    "img = reconstructed_img.view(28, 28).data\n",
    "\n",
    "print(z.shape)\n",
    "print(img.shape)\n",
    "plt.figure()\n",
    "plt.imshow(img, cmap='gray')\n",
    "plt.show()"
   ]
  },
  {
   "cell_type": "code",
   "execution_count": 78,
   "metadata": {},
   "outputs": [
    {
     "data": {
      "image/png": "[encoded data removed]",
      "text/plain": [
       "<Figure size 432x288 with 1 Axes>"
      ]
     },
     "metadata": {
      "needs_background": "light"
     },
     "output_type": "display_data"
    },
    {
     "data": {
      "image/png": "[encoded data removed]",
      "text/plain": [
       "<Figure size 432x288 with 1 Axes>"
      ]
     },
     "metadata": {
      "needs_background": "light"
     },
     "output_type": "display_data"
    },
    {
     "data": {
      "image/png": "[encoded data removed]",
      "text/plain": [
       "<Figure size 432x288 with 1 Axes>"
      ]
     },
     "metadata": {
      "needs_background": "light"
     },
     "output_type": "display_data"
    },
    {
     "data": {
      "image/png": "[encoded data removed]",
      "text/plain": [
       "<Figure size 432x288 with 1 Axes>"
      ]
     },
     "metadata": {
      "needs_background": "light"
     },
     "output_type": "display_data"
    },
    {
     "data": {
      "image/png": "[encoded data removed]",
      "text/plain": [
       "<Figure size 432x288 with 1 Axes>"
      ]
     },
     "metadata": {
      "needs_background": "light"
     },
     "output_type": "display_data"
    },
    {
     "data": {
      "image/png": "[encoded data removed]",
      "text/plain": [
       "<Figure size 432x288 with 1 Axes>"
      ]
     },
     "metadata": {
      "needs_background": "light"
     },
     "output_type": "display_data"
    },
    {
     "data": {
      "image/png": "[encoded data removed]",
      "text/plain": [
       "<Figure size 432x288 with 1 Axes>"
      ]
     },
     "metadata": {
      "needs_background": "light"
     },
     "output_type": "display_data"
    },
    {
     "data": {
      "image/png": "[encoded data removed]",
      "text/plain": [
       "<Figure size 432x288 with 1 Axes>"
      ]
     },
     "metadata": {
      "needs_background": "light"
     },
     "output_type": "display_data"
    },
    {
     "data": {
      "image/png": "[encoded data removed]",
      "text/plain": [
       "<Figure size 432x288 with 1 Axes>"
      ]
     },
     "metadata": {
      "needs_background": "light"
     },
     "output_type": "display_data"
    },
    {
     "data": {
      "image/png": "[encoded data removed]",
      "text/plain": [
       "<Figure size 432x288 with 1 Axes>"
      ]
     },
     "metadata": {
      "needs_background": "light"
     },
     "output_type": "display_data"
    }
   ],
   "source": [
    "e = torch.normal(0, 1., (10, 2))\n",
    "images = model.dec(e).sigmoid()\n",
    "\n",
    "for i in range(10):\n",
    "    picture = images[i].clone().detach().numpy()\n",
    "    plt.imshow(picture.reshape(28,28), cmap='Greys')\n",
    "    plt.show()"
   ]
  }
 ],
 "metadata": {
  "kernelspec": {
   "display_name": "Python 3",
   "language": "python",
   "name": "python3"
  },
  "language_info": {
   "codemirror_mode": {
    "name": "ipython",
    "version": 3
   },
   "file_extension": ".py",
   "mimetype": "text/x-python",
   "name": "python",
   "nbconvert_exporter": "python",
   "pygments_lexer": "ipython3",
   "version": "3.7.5"
  }
 },
 "nbformat": 4,
 "nbformat_minor": 2
}
