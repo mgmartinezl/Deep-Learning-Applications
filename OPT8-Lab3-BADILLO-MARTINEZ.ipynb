{
 "cells": [
  {
   "cell_type": "markdown",
   "metadata": {},
   "source": [
    "# Lab exercises 3"
   ]
  },
  {
   "cell_type": "markdown",
   "metadata": {},
   "source": [
    "For this lab exercises, please submit 2 notebooks / python script and 2 reports, one for each part. The deadline is 22 december.\n",
    "\n",
    "It is important the you **read the documentation** to understand how to use Pytorch functions, what kind of transformation they apply etc. You have to **take time to read it carefully** to understand what you are doing.\n",
    "\n",
    "* https://pytorch.org/docs/stable/nn.html\n",
    "* https://pytorch.org/docs/stable/torch.html"
   ]
  },
  {
   "cell_type": "markdown",
   "metadata": {},
   "source": [
    "## 1. Part one: MNIST classification with Pytorch\n",
    "\n",
    "The goal of the first part is to learn how to use Pytorch and to observe the impact of regularization during training. You should test different network architectures, e.g. with hidden layers of size 128-128, 128-64-32-16, 256-128-64-32-16, 512-256-128-64-32-16, 800-800, and different activation functions (tanh, relu, sigmoid).\n",
    "\n",
    "Remember that Pytorch expects data in a different format than in the previous lab exercise: the first dimension is always the batch dimension."
   ]
  },
  {
   "cell_type": "code",
   "execution_count": 3,
   "metadata": {},
   "outputs": [],
   "source": [
    "# import libs that we will use\n",
    "import os\n",
    "import numpy as np\n",
    "import matplotlib.pyplot as plt\n",
    "import math\n",
    "\n",
    "# To load the data we will use the script of Gaetan Marceau Caron\n",
    "# You can download it from the course webiste and move it to the same directory that contains this ipynb file\n",
    "import dataset_loader\n",
    "\n",
    "%matplotlib inline"
   ]
  },
  {
   "cell_type": "code",
   "execution_count": 4,
   "metadata": {},
   "outputs": [],
   "source": [
    "# Download mnist dataset \n",
    "if(\"mnist.pkl.gz\" not in os.listdir(\".\")):\n",
    "    !wget http://deeplearning.net/data/mnist/mnist.pkl.gz\n",
    "\n",
    "# if you have it somewhere else, you can comment the lines above\n",
    "# and overwrite the path below\n",
    "mnist_path = \"./mnist.pkl.gz\""
   ]
  },
  {
   "cell_type": "code",
   "execution_count": 5,
   "metadata": {},
   "outputs": [],
   "source": [
    "# load the 3 splits\n",
    "train_data, dev_data, test_data = dataset_loader.load_mnist(mnist_path)"
   ]
  },
  {
   "cell_type": "code",
   "execution_count": 6,
   "metadata": {},
   "outputs": [
    {
     "name": "stdout",
     "output_type": "stream",
     "text": [
      "label: 2\n"
     ]
    },
    {
     "data": {
      "text/plain": [
       "<matplotlib.image.AxesImage at 0x1213b9150>"
      ]
     },
     "execution_count": 6,
     "metadata": {},
     "output_type": "execute_result"
    },
    {
     "data": {
      "image/png": "[encoded data removed]",
      "text/plain": [
       "<Figure size 432x288 with 1 Axes>"
      ]
     },
     "metadata": {
      "needs_background": "light"
     },
     "output_type": "display_data"
    }
   ],
   "source": [
    "index = 0\n",
    "label = train_data[1][index]\n",
    "picture = train_data[0][index]\n",
    "\n",
    "MINST_FEATURES = 784\n",
    "MINST_CLASSES = 10\n",
    "\n",
    "print(\"label: %i\" % label)\n",
    "plt.imshow(picture.reshape(28,28), cmap='Greys')"
   ]
  },
  {
   "cell_type": "code",
   "execution_count": 7,
   "metadata": {},
   "outputs": [],
   "source": [
    "import torch\n",
    "import torch.nn as nn\n",
    "import torch.nn.functional as F\n",
    "import torch.optim as optim"
   ]
  },
  {
   "cell_type": "markdown",
   "metadata": {},
   "source": [
    "### 1.2. Layer initialization\n",
    "By default, Pytorch will apply Kaiming initialization to linear layers. However, I recommend you to always explicitly initialize you network by hand in the constructor."
   ]
  },
  {
   "cell_type": "code",
   "execution_count": 8,
   "metadata": {},
   "outputs": [],
   "source": [
    "class LinearNN(nn.Module):\n",
    "    def __init__(self, dim_input, dim_output):\n",
    "        super( LinearNN, self ).__init__()\n",
    "        self.affine = nn.Linear(dim_input,dim_output)\n",
    "        \n",
    "        self.init_parameters()\n",
    "\n",
    "    def init_parameters(self):\n",
    "        torch.nn.init.xavier_uniform_(self.affine.weight.data)\n",
    "        torch.nn.init.zeros_(self.affine.bias.data)\n",
    "        \n",
    "    def forward(self,x):\n",
    "        return self.affine(x)"
   ]
  },
  {
   "cell_type": "code",
   "execution_count": 27,
   "metadata": {},
   "outputs": [],
   "source": [
    "def getActivationFunction( activation ):    \n",
    "    if activation == \"relu\":\n",
    "        return nn.ReLU()\n",
    "    if activation == \"tanh\":\n",
    "        return nn.Tanh()\n",
    "    if activation == \"sigmoid\":\n",
    "        return nn.Sigmoid()    "
   ]
  },
  {
   "cell_type": "code",
   "execution_count": 31,
   "metadata": {},
   "outputs": [],
   "source": [
    "class nn_128_128(nn.Module):\n",
    "    def __init__(self, activation, dropout):\n",
    "        super( nn_128_128, self ).__init__()\n",
    "        \n",
    "        self.seq = torch.nn.Sequential(\n",
    "            nn.Linear(784,128),\n",
    "            getActivationFunction( activation ),\n",
    "            nn.Linear(128,128),\n",
    "            getActivationFunction( activation ),\n",
    "            torch.nn.Dropout( dropout ),\n",
    "            nn.Linear(128,10)\n",
    "        )\n",
    "        \n",
    "    def forward(self,x):\n",
    "        return self.seq(x)"
   ]
  },
  {
   "cell_type": "code",
   "execution_count": 13,
   "metadata": {},
   "outputs": [],
   "source": [
    "class nn_128_64_32_16_relu(nn.Module):\n",
    "    def __init__(self):\n",
    "        super( nn_128_64_32_16_relu, self ).__init__()\n",
    "        self.affine_1 = nn.Linear(784,128)\n",
    "        self.relu_1 = nn.ReLU()\n",
    "        \n",
    "        self.affine_2 = nn.Linear(128,64)\n",
    "        self.relu_2 = nn.ReLU()\n",
    "        \n",
    "        self.affine_3 = nn.Linear(64,32)\n",
    "        self.relu_3 = nn.ReLU()\n",
    "        \n",
    "        self.affine_4 = nn.Linear(32,16)\n",
    "        self.relu_4 = nn.ReLU()\n",
    "        \n",
    "        self.output = nn.Linear(16,10)\n",
    "        \n",
    "        self.init_parameters()\n",
    "\n",
    "    def init_parameters(self):\n",
    "        \n",
    "        torch.nn.init.kaiming_uniform_(self.affine_1.weight.data)\n",
    "        torch.nn.init.kaiming_uniform_(self.affine_2.weight.data)\n",
    "        torch.nn.init.kaiming_uniform_(self.affine_3.weight.data)\n",
    "        torch.nn.init.kaiming_uniform_(self.affine_4.weight.data)\n",
    "        torch.nn.init.kaiming_uniform_(self.output.weight.data)\n",
    "        \n",
    "        torch.nn.init.zeros_(self.affine_1.bias.data)\n",
    "        torch.nn.init.zeros_(self.affine_2.bias.data)\n",
    "        torch.nn.init.zeros_(self.affine_3.bias.data)\n",
    "        torch.nn.init.zeros_(self.affine_4.bias.data)\n",
    "        torch.nn.init.zeros_(self.output.bias.data)\n",
    "        \n",
    "    def forward(self,x):\n",
    "        \n",
    "        z1 = self.relu_1( self.affine_1(x) )\n",
    "        z2 = self.relu_2( self.affine_2(z1) )\n",
    "        z3 = self.relu_3( self.affine_3(z2) )\n",
    "        z4 = self.relu_4( self.affine_4(z3) )\n",
    "        output = self.output(z4)\n",
    "        \n",
    "        return output"
   ]
  },
  {
   "cell_type": "markdown",
   "metadata": {},
   "source": [
    "### 1.3. Regularization"
   ]
  },
  {
   "cell_type": "markdown",
   "metadata": {},
   "source": [
    "You can try two types of regularization (they can be combined together):\n",
    "\n",
    "* weight decay: it is a parameter of the optimizer\n",
    "* dropout: see slides"
   ]
  },
  {
   "cell_type": "markdown",
   "metadata": {},
   "source": [
    "### 1.4. Gradient clipping"
   ]
  },
  {
   "cell_type": "markdown",
   "metadata": {},
   "source": [
    "A commong trick for training neural networks is gradient clipping: if the norm of the gradient is too big, we rescale the gradient. This trick can be used to prevent exploding gradients and also to make \"too big steps\" in the wrong direction due the use of approximate gradient computation in SGD. Our training loop implements this gradient clipping."
   ]
  },
  {
   "cell_type": "markdown",
   "metadata": {},
   "source": [
    "### 1.5. Training loop"
   ]
  },
  {
   "cell_type": "markdown",
   "metadata": {},
   "source": [
    "** 1.5.1 About the batch size**\n",
    "\n",
    "The more images we take in each batch, the faster the training is, but also the less accurate. For future experiments, we will continue to use a batch of **10 images**, as this was proven to allow us get the highest accuracies for any architecture."
   ]
  },
  {
   "cell_type": "markdown",
   "metadata": {},
   "source": [
    "#### 1.5.2. About the activation functions\n",
    "\n",
    "In early experiments, we saw that the performance of neural networks trained with sigmoid activation functions was poorer when compared to reLU and tanh. For most of the future experiments, we will only consider the use of reLU and tanh in interchangeable ways, which yield to similar results."
   ]
  },
  {
   "cell_type": "code",
   "execution_count": 20,
   "metadata": {},
   "outputs": [],
   "source": [
    "def training_loop(network, optimizer, criterion, train_data, dev_data, test_data, n_epochs, batch_size):\n",
    "    \n",
    "    results = np.ndarray((n_epochs, 5))\n",
    "    \n",
    "    # --------------------------------------------------------------------------------------------\n",
    "        \n",
    "    trainingSize = train_data[0].shape[0]\n",
    "    \n",
    "    for epoch in range(n_epochs):\n",
    "        \n",
    "        print('>> epoch ', epoch)\n",
    "\n",
    "        #Shuffle training indexes\n",
    "        indexes = np.arange(trainingSize)\n",
    "        np.random.shuffle(indexes)\n",
    "\n",
    "        sumLoss = 0.0\n",
    "        first = 0\n",
    "        corrects_overall = 0\n",
    "        \n",
    "        # ----- Training loop ------\n",
    "        \n",
    "        n_acc = 0\n",
    "        while(first < trainingSize) :\n",
    "            \n",
    "            # When batch_size = 1, batch_input corresponds to one image.\n",
    "            batch_input = torch.cat(\n",
    "                [\n",
    "                    # we reshape the image tensor so it has dimension (1, 784)\n",
    "                    torch.from_numpy(picture).reshape(1, -1) for picture in train_data[0][indexes[first:first + batch_size]]\n",
    "                ],\n",
    "                    # we want to concatenate on the batch dimension\n",
    "                    dim=0\n",
    "            )\n",
    "\n",
    "            # When batch_size = 1, batch_label corresponds to the label of one image.\n",
    "            batch_label = torch.tensor(train_data[1][indexes[first:first + batch_size]])\n",
    "            first += batch_size\n",
    "                \n",
    "            # zero the parameter gradients    \n",
    "            optimizer.zero_grad()\n",
    "            \n",
    "            #Forward propagation\n",
    "            output = network.forward(batch_input)\n",
    "            \n",
    "            # Softmax >> to compute accuracy\n",
    "            probs_train = torch.softmax(output, dim=1)\n",
    "            output_train = probs_train.argmax(dim=1)\n",
    "\n",
    "            #Compute loss, loss backward gradient and optimize parameters\n",
    "            loss = criterion(output, batch_label)\n",
    "            loss.backward()\n",
    "            torch.nn.utils.clip_grad_value_(network.parameters(), 5.)\n",
    "            optimizer.step()\n",
    "            sumLoss += loss.item()\n",
    "        \n",
    "            # Compute correctly clasified images\n",
    "            corrects = (output_train == batch_label)\n",
    "            corrects_overall += corrects.sum()\n",
    "        \n",
    "        # Overall accuracy and error for training\n",
    "        train_acc = corrects_overall.item() / trainingSize\n",
    "        avg_loss = sumLoss/trainingSize\n",
    "        \n",
    "        # Store performance metrics\n",
    "        results[epoch, 0] = avg_loss\n",
    "        results[epoch, 1] = train_acc\n",
    "        \n",
    "        print(' ------ >> Training finished!')\n",
    "        \n",
    "        \n",
    "        # ------ Evaluation >> Dev set -------\n",
    "              \n",
    "        devSize = dev_data[0].shape[0]\n",
    "        batch_size_dev = batch_size\n",
    "        indexes_dev = np.arange(devSize)\n",
    "        n_dev = 0\n",
    "        first_dev = 0\n",
    "        corrects_dev_overall = 0\n",
    "        \n",
    "        while(first_dev < devSize) :\n",
    "            \n",
    "            batch_input_dev = torch.cat(\n",
    "                [torch.from_numpy(pic).reshape(1, -1) for pic in dev_data[0][indexes_dev[first_dev:first_dev + batch_size_dev]]],\n",
    "                dim=0)\n",
    "            \n",
    "            batch_label_dev = torch.tensor(dev_data[1][indexes_dev[first_dev:first_dev + batch_size_dev]])\n",
    "            first_dev += batch_size_dev\n",
    "            \n",
    "            #Forward propagation and output\n",
    "            probs_dev = torch.softmax(network.forward(batch_input_dev), dim=1)\n",
    "            output_dev = probs_dev.argmax(dim=1)\n",
    "            \n",
    "            # Compute correctly clasified images\n",
    "            corrects_dev = (output_dev == batch_label_dev)\n",
    "            corrects_dev_overall += corrects_dev.sum()\n",
    "        \n",
    "        print(' -------- >>  Dev set testing finished!')\n",
    "\n",
    "        dev_acc = corrects_dev_overall.item() / devSize\n",
    "        \n",
    "        # params = list(network.parameters())\n",
    "        \n",
    "        # Store performance metrics\n",
    "        results[epoch, 2] = dev_acc\n",
    "    \n",
    "    \n",
    "     # ------ Evaluation >> Test set -------\n",
    "              \n",
    "    testSize = test_data[0].shape[0]\n",
    "    batch_size_test = batch_size\n",
    "    indexes_test = np.arange(testSize)\n",
    "    n_test = 0\n",
    "    first_test = 0\n",
    "    corrects_test_overall = 0\n",
    "\n",
    "    while(first_test < testSize) :\n",
    "\n",
    "        batch_input_test = torch.cat(\n",
    "            [torch.from_numpy(pic).reshape(1, -1) for pic in test_data[0][indexes_test[first_test:first_test + batch_size_test]]],\n",
    "            dim=0)\n",
    "\n",
    "        batch_label_test = torch.tensor(test_data[1][indexes_test[first_test:first_test + batch_size_test]])\n",
    "        first_test += batch_size_test\n",
    "\n",
    "        #Forward propagation and output\n",
    "        probs_test = torch.softmax(network.forward(batch_input_test), dim=1)\n",
    "        output_test = probs_test.argmax(dim=1)\n",
    "\n",
    "        # Compute correctly clasified images\n",
    "        corrects_test = (output_test == batch_label_test)\n",
    "        corrects_test_overall += corrects_test.sum()\n",
    "    \n",
    "    print(' ----------- >> Test set testing finished!')\n",
    "    \n",
    "    test_acc = corrects_test_overall.item() / testSize\n",
    "    \n",
    "    # Store performance metrics\n",
    "    results[:, 4] = test_acc\n",
    "    \n",
    "    \n",
    "    # ------ Performance metrics -------\n",
    "    \n",
    "    print('')\n",
    "    print('>> ----- PERFORMANCE METRICS ------ <<')\n",
    "    print('')\n",
    "    print('Average loss: >> ', avg_loss)\n",
    "    print('Training accuracy: >> ', train_acc)\n",
    "    print('Dev accuracy: >> ', dev_acc)\n",
    "    print('Test accuracy: >> ', test_acc)\n",
    "\n",
    "    return results"
   ]
  },
  {
   "cell_type": "markdown",
   "metadata": {},
   "source": [
    "### Experiment 1: LinearNN (no activation function)"
   ]
  },
  {
   "cell_type": "code",
   "execution_count": 15,
   "metadata": {},
   "outputs": [
    {
     "name": "stdout",
     "output_type": "stream",
     "text": [
      ">> epoch  0\n",
      " ------ >> Training finished!\n",
      " -------- >>  Dev set testing finished!\n",
      ">> epoch  1\n",
      " ------ >> Training finished!\n",
      " -------- >>  Dev set testing finished!\n",
      ">> epoch  2\n",
      " ------ >> Training finished!\n",
      " -------- >>  Dev set testing finished!\n",
      ">> epoch  3\n",
      " ------ >> Training finished!\n",
      " -------- >>  Dev set testing finished!\n",
      ">> epoch  4\n",
      " ------ >> Training finished!\n",
      " -------- >>  Dev set testing finished!\n",
      ">> epoch  5\n",
      " ------ >> Training finished!\n",
      " -------- >>  Dev set testing finished!\n",
      ">> epoch  6\n"
     ]
    },
    {
     "ename": "KeyboardInterrupt",
     "evalue": "",
     "output_type": "error",
     "traceback": [
      "\u001b[0;31m---------------------------------------------------------------------------\u001b[0m",
      "\u001b[0;31mKeyboardInterrupt\u001b[0m                         Traceback (most recent call last)",
      "\u001b[0;32m<ipython-input-15-d3c18ef46222>\u001b[0m in \u001b[0;36m<module>\u001b[0;34m\u001b[0m\n\u001b[1;32m      8\u001b[0m \u001b[0mcriterion\u001b[0m \u001b[0;34m=\u001b[0m \u001b[0mnn\u001b[0m\u001b[0;34m.\u001b[0m\u001b[0mCrossEntropyLoss\u001b[0m\u001b[0;34m(\u001b[0m\u001b[0;34m)\u001b[0m\u001b[0;34m\u001b[0m\u001b[0;34m\u001b[0m\u001b[0m\n\u001b[1;32m      9\u001b[0m \u001b[0;34m\u001b[0m\u001b[0m\n\u001b[0;32m---> 10\u001b[0;31m \u001b[0mresults\u001b[0m \u001b[0;34m=\u001b[0m \u001b[0mtraining_loop\u001b[0m\u001b[0;34m(\u001b[0m\u001b[0mnetwork\u001b[0m\u001b[0;34m,\u001b[0m \u001b[0moptimizer\u001b[0m\u001b[0;34m,\u001b[0m \u001b[0mcriterion\u001b[0m\u001b[0;34m,\u001b[0m \u001b[0mtrain_data\u001b[0m\u001b[0;34m,\u001b[0m \u001b[0mdev_data\u001b[0m\u001b[0;34m,\u001b[0m \u001b[0mtest_data\u001b[0m\u001b[0;34m,\u001b[0m \u001b[0mn_epochs\u001b[0m\u001b[0;34m=\u001b[0m\u001b[0;36m15\u001b[0m\u001b[0;34m,\u001b[0m \u001b[0mbatch_size\u001b[0m\u001b[0;34m=\u001b[0m\u001b[0;36m10\u001b[0m\u001b[0;34m)\u001b[0m\u001b[0;34m\u001b[0m\u001b[0;34m\u001b[0m\u001b[0m\n\u001b[0m\u001b[1;32m     11\u001b[0m \u001b[0;34m\u001b[0m\u001b[0m\n\u001b[1;32m     12\u001b[0m \u001b[0;31m# PATH = './linearNN.pth'\u001b[0m\u001b[0;34m\u001b[0m\u001b[0;34m\u001b[0m\u001b[0;34m\u001b[0m\u001b[0m\n",
      "\u001b[0;32m<ipython-input-14-ea25eea5f784>\u001b[0m in \u001b[0;36mtraining_loop\u001b[0;34m(network, optimizer, criterion, train_data, dev_data, test_data, n_epochs, batch_size)\u001b[0m\n\u001b[1;32m     28\u001b[0m                 [\n\u001b[1;32m     29\u001b[0m                     \u001b[0;31m# we reshape the image tensor so it has dimension (1, 784)\u001b[0m\u001b[0;34m\u001b[0m\u001b[0;34m\u001b[0m\u001b[0;34m\u001b[0m\u001b[0m\n\u001b[0;32m---> 30\u001b[0;31m                     \u001b[0mtorch\u001b[0m\u001b[0;34m.\u001b[0m\u001b[0mfrom_numpy\u001b[0m\u001b[0;34m(\u001b[0m\u001b[0mpicture\u001b[0m\u001b[0;34m)\u001b[0m\u001b[0;34m.\u001b[0m\u001b[0mreshape\u001b[0m\u001b[0;34m(\u001b[0m\u001b[0;36m1\u001b[0m\u001b[0;34m,\u001b[0m \u001b[0;34m-\u001b[0m\u001b[0;36m1\u001b[0m\u001b[0;34m)\u001b[0m \u001b[0;32mfor\u001b[0m \u001b[0mpicture\u001b[0m \u001b[0;32min\u001b[0m \u001b[0mtrain_data\u001b[0m\u001b[0;34m[\u001b[0m\u001b[0;36m0\u001b[0m\u001b[0;34m]\u001b[0m\u001b[0;34m[\u001b[0m\u001b[0mindexes\u001b[0m\u001b[0;34m[\u001b[0m\u001b[0mfirst\u001b[0m\u001b[0;34m:\u001b[0m\u001b[0mfirst\u001b[0m \u001b[0;34m+\u001b[0m \u001b[0mbatch_size\u001b[0m\u001b[0;34m]\u001b[0m\u001b[0;34m]\u001b[0m\u001b[0;34m\u001b[0m\u001b[0;34m\u001b[0m\u001b[0m\n\u001b[0m\u001b[1;32m     31\u001b[0m                 ],\n\u001b[1;32m     32\u001b[0m                     \u001b[0;31m# we want to concatenate on the batch dimension\u001b[0m\u001b[0;34m\u001b[0m\u001b[0;34m\u001b[0m\u001b[0;34m\u001b[0m\u001b[0m\n",
      "\u001b[0;32m<ipython-input-14-ea25eea5f784>\u001b[0m in \u001b[0;36m<listcomp>\u001b[0;34m(.0)\u001b[0m\n\u001b[1;32m     28\u001b[0m                 [\n\u001b[1;32m     29\u001b[0m                     \u001b[0;31m# we reshape the image tensor so it has dimension (1, 784)\u001b[0m\u001b[0;34m\u001b[0m\u001b[0;34m\u001b[0m\u001b[0;34m\u001b[0m\u001b[0m\n\u001b[0;32m---> 30\u001b[0;31m                     \u001b[0mtorch\u001b[0m\u001b[0;34m.\u001b[0m\u001b[0mfrom_numpy\u001b[0m\u001b[0;34m(\u001b[0m\u001b[0mpicture\u001b[0m\u001b[0;34m)\u001b[0m\u001b[0;34m.\u001b[0m\u001b[0mreshape\u001b[0m\u001b[0;34m(\u001b[0m\u001b[0;36m1\u001b[0m\u001b[0;34m,\u001b[0m \u001b[0;34m-\u001b[0m\u001b[0;36m1\u001b[0m\u001b[0;34m)\u001b[0m \u001b[0;32mfor\u001b[0m \u001b[0mpicture\u001b[0m \u001b[0;32min\u001b[0m \u001b[0mtrain_data\u001b[0m\u001b[0;34m[\u001b[0m\u001b[0;36m0\u001b[0m\u001b[0;34m]\u001b[0m\u001b[0;34m[\u001b[0m\u001b[0mindexes\u001b[0m\u001b[0;34m[\u001b[0m\u001b[0mfirst\u001b[0m\u001b[0;34m:\u001b[0m\u001b[0mfirst\u001b[0m \u001b[0;34m+\u001b[0m \u001b[0mbatch_size\u001b[0m\u001b[0;34m]\u001b[0m\u001b[0;34m]\u001b[0m\u001b[0;34m\u001b[0m\u001b[0;34m\u001b[0m\u001b[0m\n\u001b[0m\u001b[1;32m     31\u001b[0m                 ],\n\u001b[1;32m     32\u001b[0m                     \u001b[0;31m# we want to concatenate on the batch dimension\u001b[0m\u001b[0;34m\u001b[0m\u001b[0;34m\u001b[0m\u001b[0;34m\u001b[0m\u001b[0m\n",
      "\u001b[0;31mKeyboardInterrupt\u001b[0m: "
     ]
    }
   ],
   "source": [
    "dim_input = 28*28\n",
    "dim_output = 10\n",
    "\n",
    "#network = nn_128_128()\n",
    "network = LinearNN(dim_input,dim_output)\n",
    "\n",
    "optimizer = optim.SGD(network.parameters(), lr=0.01) #momentum=0.9\n",
    "criterion = nn.CrossEntropyLoss()\n",
    "\n",
    "results = training_loop(network, optimizer, criterion, train_data, dev_data, test_data, n_epochs=15, batch_size=10)\n",
    "\n",
    "# PATH = './linearNN.pth'\n",
    "# torch.save(network.state_dict(), PATH)"
   ]
  },
  {
   "cell_type": "code",
   "execution_count": 16,
   "metadata": {},
   "outputs": [
    {
     "ename": "NameError",
     "evalue": "name 'results' is not defined",
     "output_type": "error",
     "traceback": [
      "\u001b[0;31m---------------------------------------------------------------------------\u001b[0m",
      "\u001b[0;31mNameError\u001b[0m                                 Traceback (most recent call last)",
      "\u001b[0;32m<ipython-input-16-5e569b7175e6>\u001b[0m in \u001b[0;36m<module>\u001b[0;34m\u001b[0m\n\u001b[0;32m----> 1\u001b[0;31m \u001b[0mplt\u001b[0m\u001b[0;34m.\u001b[0m\u001b[0mplot\u001b[0m\u001b[0;34m(\u001b[0m\u001b[0mresults\u001b[0m\u001b[0;34m[\u001b[0m\u001b[0;34m:\u001b[0m\u001b[0;34m,\u001b[0m\u001b[0;36m1\u001b[0m\u001b[0;34m]\u001b[0m\u001b[0;34m,\u001b[0m \u001b[0;34m'g'\u001b[0m\u001b[0;34m,\u001b[0m \u001b[0mlabel\u001b[0m\u001b[0;34m=\u001b[0m\u001b[0;34m\"TRAIN acc\"\u001b[0m\u001b[0;34m)\u001b[0m\u001b[0;34m\u001b[0m\u001b[0;34m\u001b[0m\u001b[0m\n\u001b[0m\u001b[1;32m      2\u001b[0m \u001b[0mplt\u001b[0m\u001b[0;34m.\u001b[0m\u001b[0mplot\u001b[0m\u001b[0;34m(\u001b[0m\u001b[0mresults\u001b[0m\u001b[0;34m[\u001b[0m\u001b[0;34m:\u001b[0m\u001b[0;34m,\u001b[0m\u001b[0;36m2\u001b[0m\u001b[0;34m]\u001b[0m\u001b[0;34m,\u001b[0m \u001b[0;34m'b'\u001b[0m\u001b[0;34m,\u001b[0m \u001b[0mlabel\u001b[0m\u001b[0;34m=\u001b[0m\u001b[0;34m\"DEV acc\"\u001b[0m\u001b[0;34m)\u001b[0m\u001b[0;34m\u001b[0m\u001b[0;34m\u001b[0m\u001b[0m\n\u001b[1;32m      3\u001b[0m \u001b[0mplt\u001b[0m\u001b[0;34m.\u001b[0m\u001b[0mplot\u001b[0m\u001b[0;34m(\u001b[0m\u001b[0mresults\u001b[0m\u001b[0;34m[\u001b[0m\u001b[0;34m:\u001b[0m\u001b[0;34m,\u001b[0m\u001b[0;36m4\u001b[0m\u001b[0;34m]\u001b[0m\u001b[0;34m,\u001b[0m \u001b[0;34m'r'\u001b[0m\u001b[0;34m,\u001b[0m \u001b[0mlabel\u001b[0m\u001b[0;34m=\u001b[0m\u001b[0;34m\"TEST acc\"\u001b[0m\u001b[0;34m)\u001b[0m\u001b[0;34m\u001b[0m\u001b[0;34m\u001b[0m\u001b[0m\n\u001b[1;32m      4\u001b[0m \u001b[0mplt\u001b[0m\u001b[0;34m.\u001b[0m\u001b[0mlegend\u001b[0m\u001b[0;34m(\u001b[0m\u001b[0mloc\u001b[0m\u001b[0;34m=\u001b[0m\u001b[0;34m'lower right'\u001b[0m\u001b[0;34m)\u001b[0m\u001b[0;34m\u001b[0m\u001b[0;34m\u001b[0m\u001b[0m\n\u001b[1;32m      5\u001b[0m \u001b[0mplt\u001b[0m\u001b[0;34m.\u001b[0m\u001b[0mxlabel\u001b[0m\u001b[0;34m(\u001b[0m\u001b[0;34m\"epochs\"\u001b[0m\u001b[0;34m)\u001b[0m\u001b[0;34m\u001b[0m\u001b[0;34m\u001b[0m\u001b[0m\n",
      "\u001b[0;31mNameError\u001b[0m: name 'results' is not defined"
     ]
    }
   ],
   "source": [
    "plt.plot(results[:,1], 'g', label=\"TRAIN acc\")\n",
    "plt.plot(results[:,2], 'b', label=\"DEV acc\")\n",
    "plt.plot(results[:,4], 'r', label=\"TEST acc\")\n",
    "plt.legend(loc='lower right')\n",
    "plt.xlabel(\"epochs\")\n",
    "plt.ylabel(\"accuracy\")"
   ]
  },
  {
   "cell_type": "markdown",
   "metadata": {},
   "source": [
    "### Experiment 2: 128 x 128 architecture and reLU"
   ]
  },
  {
   "cell_type": "code",
   "execution_count": 33,
   "metadata": {},
   "outputs": [
    {
     "name": "stdout",
     "output_type": "stream",
     "text": [
      ">> epoch  0\n",
      " ------ >> Training finished!\n",
      " -------- >>  Dev set testing finished!\n",
      ">> epoch  1\n",
      " ------ >> Training finished!\n",
      " -------- >>  Dev set testing finished!\n",
      ">> epoch  2\n",
      " ------ >> Training finished!\n",
      " -------- >>  Dev set testing finished!\n",
      ">> epoch  3\n",
      " ------ >> Training finished!\n",
      " -------- >>  Dev set testing finished!\n",
      ">> epoch  4\n",
      " ------ >> Training finished!\n",
      " -------- >>  Dev set testing finished!\n",
      " ----------- >> Test set testing finished!\n",
      "\n",
      ">> ----- PERFORMANCE METRICS ------ <<\n",
      "\n",
      "Average loss: >>  0.01734639883099124\n",
      "Training accuracy: >>  0.94884\n",
      "Dev accuracy: >>  0.9572\n",
      "Test accuracy: >>  0.9521\n"
     ]
    }
   ],
   "source": [
    "dim_input = 28*28\n",
    "dim_output = 10\n",
    "\n",
    "network = nn_128_128(\"tanh\",0.2)\n",
    "\n",
    "optimizer = optim.SGD(network.parameters(), lr=0.01) #momentum=0.9\n",
    "criterion = nn.CrossEntropyLoss()\n",
    "\n",
    "results = training_loop(network, optimizer, criterion, train_data, dev_data, test_data, n_epochs=5, batch_size=10)\n",
    "\n",
    "# PATH = './linearNN.pth'\n",
    "# torch.save(network.state_dict(), PATH)"
   ]
  },
  {
   "cell_type": "code",
   "execution_count": 92,
   "metadata": {},
   "outputs": [
    {
     "data": {
      "text/plain": [
       "Text(0,0.5,'accuracy')"
      ]
     },
     "execution_count": 92,
     "metadata": {},
     "output_type": "execute_result"
    },
    {
     "data": {
      "image/png": "[encoded data removed]",
      "text/plain": [
       "<Figure size 432x288 with 1 Axes>"
      ]
     },
     "metadata": {},
     "output_type": "display_data"
    }
   ],
   "source": [
    "plt.plot(results[:,1], 'g', label=\"TRAIN acc\")\n",
    "plt.plot(results[:,2], 'b', label=\"DEV acc\")\n",
    "plt.plot(results[:,4], 'r', label=\"TEST acc\")\n",
    "plt.legend(loc='lower right')\n",
    "plt.xlabel(\"epochs\")\n",
    "plt.ylabel(\"accuracy\")"
   ]
  },
  {
   "cell_type": "markdown",
   "metadata": {},
   "source": [
    "### Experiment 3: 128 x 128 architecture and tanh"
   ]
  },
  {
   "cell_type": "code",
   "execution_count": 93,
   "metadata": {},
   "outputs": [
    {
     "name": "stdout",
     "output_type": "stream",
     "text": [
      ">> epoch  0\n",
      " ------ >> Training finished!\n",
      " -------- >>  Dev set testing finished!\n",
      ">> epoch  1\n",
      " ------ >> Training finished!\n",
      " -------- >>  Dev set testing finished!\n",
      ">> epoch  2\n",
      " ------ >> Training finished!\n",
      " -------- >>  Dev set testing finished!\n",
      ">> epoch  3\n",
      " ------ >> Training finished!\n",
      " -------- >>  Dev set testing finished!\n",
      ">> epoch  4\n",
      " ------ >> Training finished!\n",
      " -------- >>  Dev set testing finished!\n",
      " ----------- >> Test set testing finished!\n",
      "\n",
      ">> ----- PERFORMANCE METRICS ------ <<\n",
      "\n",
      "Average loss: >>  0.013517699503824115\n",
      "Training accuracy: >>  0.95984\n",
      "Dev accuracy: >>  0.9653\n",
      "Test accuracy: >>  0.9599\n"
     ]
    }
   ],
   "source": [
    "dim_input = 28*28\n",
    "dim_output = 10\n",
    "\n",
    "network = nn_128_128_tanh()\n",
    "\n",
    "optimizer = optim.SGD(network.parameters(), lr=0.01) #momentum=0.9\n",
    "criterion = nn.CrossEntropyLoss()\n",
    "\n",
    "results = training_loop(network, optimizer, criterion, train_data, dev_data, test_data, n_epochs=5, batch_size=10)\n",
    "\n",
    "# PATH = './linearNN.pth'\n",
    "# torch.save(network.state_dict(), PATH)"
   ]
  },
  {
   "cell_type": "code",
   "execution_count": 94,
   "metadata": {},
   "outputs": [
    {
     "data": {
      "text/plain": [
       "Text(0,0.5,'accuracy')"
      ]
     },
     "execution_count": 94,
     "metadata": {},
     "output_type": "execute_result"
    },
    {
     "data": {
      "image/png": "[encoded data removed]",
      "text/plain": [
       "<Figure size 432x288 with 1 Axes>"
      ]
     },
     "metadata": {},
     "output_type": "display_data"
    }
   ],
   "source": [
    "plt.plot(results[:,1], 'g', label=\"TRAIN acc\")\n",
    "plt.plot(results[:,2], 'b', label=\"DEV acc\")\n",
    "plt.plot(results[:,4], 'r', label=\"TEST acc\")\n",
    "plt.legend(loc='lower right')\n",
    "plt.xlabel(\"epochs\")\n",
    "plt.ylabel(\"accuracy\")"
   ]
  },
  {
   "cell_type": "markdown",
   "metadata": {},
   "source": [
    "### Experiment 4: 128 x 128 architecture and sigmoid"
   ]
  },
  {
   "cell_type": "code",
   "execution_count": 95,
   "metadata": {},
   "outputs": [
    {
     "name": "stdout",
     "output_type": "stream",
     "text": [
      ">> epoch  0\n",
      " ------ >> Training finished!\n",
      " -------- >>  Dev set testing finished!\n",
      ">> epoch  1\n",
      " ------ >> Training finished!\n",
      " -------- >>  Dev set testing finished!\n",
      ">> epoch  2\n",
      " ------ >> Training finished!\n",
      " -------- >>  Dev set testing finished!\n",
      ">> epoch  3\n",
      " ------ >> Training finished!\n",
      " -------- >>  Dev set testing finished!\n",
      ">> epoch  4\n",
      " ------ >> Training finished!\n",
      " -------- >>  Dev set testing finished!\n",
      " ----------- >> Test set testing finished!\n",
      "\n",
      ">> ----- PERFORMANCE METRICS ------ <<\n",
      "\n",
      "Average loss: >>  0.035048148269988595\n",
      "Training accuracy: >>  0.90018\n",
      "Dev accuracy: >>  0.913\n",
      "Test accuracy: >>  0.909\n"
     ]
    }
   ],
   "source": [
    "dim_input = 28*28\n",
    "dim_output = 10\n",
    "\n",
    "network = nn_128_128_sigmoid()\n",
    "\n",
    "optimizer = optim.SGD(network.parameters(), lr=0.01, ) #momentum=0.9\n",
    "criterion = nn.CrossEntropyLoss()\n",
    "\n",
    "results = training_loop(network, optimizer, criterion, train_data, dev_data, test_data, n_epochs=5, batch_size=10)\n",
    "\n",
    "# PATH = './linearNN.pth'\n",
    "# torch.save(network.state_dict(), PATH)"
   ]
  },
  {
   "cell_type": "code",
   "execution_count": 77,
   "metadata": {},
   "outputs": [
    {
     "data": {
      "text/plain": [
       "Text(0,0.5,'accuracy')"
      ]
     },
     "execution_count": 77,
     "metadata": {},
     "output_type": "execute_result"
    },
    {
     "data": {
      "image/png": "[encoded data removed]",
      "text/plain": [
       "<Figure size 432x288 with 1 Axes>"
      ]
     },
     "metadata": {},
     "output_type": "display_data"
    }
   ],
   "source": [
    "plt.plot(results[:,1], 'g', label=\"TRAIN acc\")\n",
    "plt.plot(results[:,2], 'b', label=\"DEV acc\")\n",
    "plt.plot(results[:,4], 'r', label=\"TEST acc\")\n",
    "plt.legend(loc='lower right')\n",
    "plt.xlabel(\"epochs\")\n",
    "plt.ylabel(\"accuracy\")"
   ]
  },
  {
   "cell_type": "markdown",
   "metadata": {},
   "source": [
    "We will discard sigmoid activation function for future experiments, as the accuracy achieved is not that good when compared to reLU and sigmoid"
   ]
  },
  {
   "cell_type": "markdown",
   "metadata": {},
   "source": [
    "### Experiment 5: 128 x 64 x 32 x 16 and reLU"
   ]
  },
  {
   "cell_type": "code",
   "execution_count": 87,
   "metadata": {},
   "outputs": [
    {
     "name": "stdout",
     "output_type": "stream",
     "text": [
      ">> epoch  0\n",
      " ------ >> Training finished!\n",
      " -------- >>  Dev set testing finished!\n",
      ">> epoch  1\n",
      " ------ >> Training finished!\n",
      " -------- >>  Dev set testing finished!\n",
      ">> epoch  2\n",
      " ------ >> Training finished!\n",
      " -------- >>  Dev set testing finished!\n",
      ">> epoch  3\n",
      " ------ >> Training finished!\n",
      " -------- >>  Dev set testing finished!\n",
      ">> epoch  4\n",
      " ------ >> Training finished!\n",
      " -------- >>  Dev set testing finished!\n",
      " ----------- >> Test set testing finished!\n",
      "\n",
      ">> ----- PERFORMANCE METRICS ------ <<\n",
      "\n",
      "Average loss: >>  0.004471952412240207\n",
      "Training accuracy: >>  0.96124\n",
      "Dev accuracy: >>  0.961\n",
      "Test accuracy: >>  0.9598\n"
     ]
    }
   ],
   "source": [
    "dim_input = 28*28\n",
    "dim_output = 10\n",
    "\n",
    "network = nn_128_64_32_16_relu()\n",
    "\n",
    "optimizer = optim.SGD(network.parameters(), lr=0.01)\n",
    "criterion = nn.CrossEntropyLoss()\n",
    "\n",
    "results = training_loop(network, optimizer, criterion, train_data, dev_data, test_data, n_epochs=5, batch_size=30)\n",
    "\n",
    "# PATH = './linearNN.pth'\n",
    "# torch.save(network.state_dict(), PATH)"
   ]
  },
  {
   "cell_type": "markdown",
   "metadata": {},
   "source": [
    "#### Batch size = 1000 (experiment 5)"
   ]
  },
  {
   "cell_type": "code",
   "execution_count": 82,
   "metadata": {},
   "outputs": [
    {
     "data": {
      "text/plain": [
       "Text(0,0.5,'accuracy')"
      ]
     },
     "execution_count": 82,
     "metadata": {},
     "output_type": "execute_result"
    },
    {
     "data": {
      "image/png": "[encoded data removed]",
      "text/plain": [
       "<Figure size 432x288 with 1 Axes>"
      ]
     },
     "metadata": {},
     "output_type": "display_data"
    }
   ],
   "source": [
    "plt.plot(results[:,1], 'g', label=\"TRAIN acc\")\n",
    "plt.plot(results[:,2], 'b', label=\"DEV acc\")\n",
    "plt.plot(results[:,4], 'r', label=\"TEST acc\")\n",
    "plt.legend(loc='lower right')\n",
    "plt.xlabel(\"epochs\")\n",
    "plt.ylabel(\"accuracy\")"
   ]
  },
  {
   "cell_type": "markdown",
   "metadata": {},
   "source": [
    "#### Batch size = 100 (experiment 5)"
   ]
  },
  {
   "cell_type": "code",
   "execution_count": 80,
   "metadata": {},
   "outputs": [
    {
     "data": {
      "text/plain": [
       "Text(0,0.5,'accuracy')"
      ]
     },
     "execution_count": 80,
     "metadata": {},
     "output_type": "execute_result"
    },
    {
     "data": {
      "image/png": "[encoded data removed]",
      "text/plain": [
       "<Figure size 432x288 with 1 Axes>"
      ]
     },
     "metadata": {},
     "output_type": "display_data"
    }
   ],
   "source": [
    "plt.plot(results[:,1], 'g', label=\"TRAIN acc\")\n",
    "plt.plot(results[:,2], 'b', label=\"DEV acc\")\n",
    "plt.plot(results[:,4], 'r', label=\"TEST acc\")\n",
    "plt.legend(loc='lower right')\n",
    "plt.xlabel(\"epochs\")\n",
    "plt.ylabel(\"accuracy\")"
   ]
  },
  {
   "cell_type": "markdown",
   "metadata": {},
   "source": [
    "#### Batch size = 50 (experiment 5)"
   ]
  },
  {
   "cell_type": "code",
   "execution_count": 84,
   "metadata": {},
   "outputs": [
    {
     "data": {
      "text/plain": [
       "Text(0,0.5,'accuracy')"
      ]
     },
     "execution_count": 84,
     "metadata": {},
     "output_type": "execute_result"
    },
    {
     "data": {
      "image/png": "[encoded data removed]",
      "text/plain": [
       "<Figure size 432x288 with 1 Axes>"
      ]
     },
     "metadata": {},
     "output_type": "display_data"
    }
   ],
   "source": [
    "plt.plot(results[:,1], 'g', label=\"TRAIN acc\")\n",
    "plt.plot(results[:,2], 'b', label=\"DEV acc\")\n",
    "plt.plot(results[:,4], 'r', label=\"TEST acc\")\n",
    "plt.legend(loc='lower right')\n",
    "plt.xlabel(\"epochs\")\n",
    "plt.ylabel(\"accuracy\")"
   ]
  },
  {
   "cell_type": "markdown",
   "metadata": {},
   "source": [
    "#### Batch size = 10 (experiment 5)"
   ]
  },
  {
   "cell_type": "code",
   "execution_count": 86,
   "metadata": {},
   "outputs": [
    {
     "data": {
      "text/plain": [
       "Text(0,0.5,'accuracy')"
      ]
     },
     "execution_count": 86,
     "metadata": {},
     "output_type": "execute_result"
    },
    {
     "data": {
      "image/png": "[encoded data removed]",
      "text/plain": [
       "<Figure size 432x288 with 1 Axes>"
      ]
     },
     "metadata": {},
     "output_type": "display_data"
    }
   ],
   "source": [
    "plt.plot(results[:,1], 'g', label=\"TRAIN acc\")\n",
    "plt.plot(results[:,2], 'b', label=\"DEV acc\")\n",
    "plt.plot(results[:,4], 'r', label=\"TEST acc\")\n",
    "plt.legend(loc='lower right')\n",
    "plt.xlabel(\"epochs\")\n",
    "plt.ylabel(\"accuracy\")"
   ]
  },
  {
   "cell_type": "markdown",
   "metadata": {},
   "source": [
    "#### Batch size = 30 (experiment 5)"
   ]
  },
  {
   "cell_type": "code",
   "execution_count": 88,
   "metadata": {},
   "outputs": [
    {
     "data": {
      "text/plain": [
       "Text(0,0.5,'accuracy')"
      ]
     },
     "execution_count": 88,
     "metadata": {},
     "output_type": "execute_result"
    },
    {
     "data": {
      "image/png": "[encoded data removed]",
      "text/plain": [
       "<Figure size 432x288 with 1 Axes>"
      ]
     },
     "metadata": {},
     "output_type": "display_data"
    }
   ],
   "source": [
    "plt.plot(results[:,1], 'g', label=\"TRAIN acc\")\n",
    "plt.plot(results[:,2], 'b', label=\"DEV acc\")\n",
    "plt.plot(results[:,4], 'r', label=\"TEST acc\")\n",
    "plt.legend(loc='lower right')\n",
    "plt.xlabel(\"epochs\")\n",
    "plt.ylabel(\"accuracy\")"
   ]
  },
  {
   "cell_type": "code",
   "execution_count": null,
   "metadata": {},
   "outputs": [],
   "source": []
  }
 ],
 "metadata": {
  "kernelspec": {
   "display_name": "Python 3",
   "language": "python",
   "name": "python3"
  },
  "language_info": {
   "codemirror_mode": {
    "name": "ipython",
    "version": 3
   },
   "file_extension": ".py",
   "mimetype": "text/x-python",
   "name": "python",
   "nbconvert_exporter": "python",
   "pygments_lexer": "ipython3",
   "version": "3.7.5"
  }
 },
 "nbformat": 4,
 "nbformat_minor": 2
}
