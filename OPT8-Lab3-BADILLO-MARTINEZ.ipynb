{
 "cells": [
  {
   "cell_type": "markdown",
   "metadata": {},
   "source": [
    "# Lab exercises 3"
   ]
  },
  {
   "cell_type": "markdown",
   "metadata": {},
   "source": [
    "For this lab exercises, please submit 2 notebooks / python script and 2 reports, one for each part. The deadline is 22 december.\n",
    "\n",
    "It is important the you **read the documentation** to understand how to use Pytorch functions, what kind of transformation they apply etc. You have to **take time to read it carefully** to understand what you are doing.\n",
    "\n",
    "* https://pytorch.org/docs/stable/nn.html\n",
    "* https://pytorch.org/docs/stable/torch.html"
   ]
  },
  {
   "cell_type": "markdown",
   "metadata": {},
   "source": [
    "## 1. Part one: MNIST classification with Pytorch\n",
    "\n",
    "The goal of the first part is to learn how to use Pytorch and to observe the impact of regularization during training. You should test different network architectures, e.g. with hidden layers of size 128-128, 128-64-32-16, 256-128-64-32-16, 512-256-128-64-32-16, 800-800, and different activation functions (tanh, relu, sigmoid).\n",
    "\n",
    "Remember that Pytorch expects data in a different format than in the previous lab exercise: the first dimension is always the batch dimension."
   ]
  },
  {
   "cell_type": "code",
   "execution_count": 1,
   "metadata": {},
   "outputs": [],
   "source": [
    "# import libs that we will use\n",
    "import os\n",
    "import numpy as np\n",
    "import matplotlib.pyplot as plt\n",
    "import math\n",
    "\n",
    "# To load the data we will use the script of Gaetan Marceau Caron\n",
    "# You can download it from the course webiste and move it to the same directory that contains this ipynb file\n",
    "import dataset_loader\n",
    "\n",
    "%matplotlib inline"
   ]
  },
  {
   "cell_type": "code",
   "execution_count": 2,
   "metadata": {},
   "outputs": [],
   "source": [
    "# Download mnist dataset \n",
    "if(\"mnist.pkl.gz\" not in os.listdir(\".\")):\n",
    "    !wget http://deeplearning.net/data/mnist/mnist.pkl.gz\n",
    "\n",
    "# if you have it somewhere else, you can comment the lines above\n",
    "# and overwrite the path below\n",
    "mnist_path = \"./mnist.pkl.gz\""
   ]
  },
  {
   "cell_type": "code",
   "execution_count": 3,
   "metadata": {},
   "outputs": [],
   "source": [
    "# load the 3 splits\n",
    "train_data, dev_data, test_data = dataset_loader.load_mnist(mnist_path)"
   ]
  },
  {
   "cell_type": "code",
   "execution_count": 4,
   "metadata": {},
   "outputs": [
    {
     "name": "stdout",
     "output_type": "stream",
     "text": [
      "label: 8\n"
     ]
    },
    {
     "data": {
      "text/plain": [
       "<matplotlib.image.AxesImage at 0x1cb0ae01ac8>"
      ]
     },
     "execution_count": 4,
     "metadata": {},
     "output_type": "execute_result"
    },
    {
     "data": {
      "image/png": "[encoded data removed]",
      "text/plain": [
       "<Figure size 432x288 with 1 Axes>"
      ]
     },
     "metadata": {},
     "output_type": "display_data"
    }
   ],
   "source": [
    "index = 0\n",
    "label = train_data[1][index]\n",
    "picture = train_data[0][index]\n",
    "\n",
    "MINST_FEATURES = 784\n",
    "MINST_CLASSES = 10\n",
    "\n",
    "print(\"label: %i\" % label)\n",
    "plt.imshow(picture.reshape(28,28), cmap='Greys')"
   ]
  },
  {
   "cell_type": "code",
   "execution_count": 5,
   "metadata": {},
   "outputs": [],
   "source": [
    "import torch\n",
    "import torch.nn as nn\n",
    "import torch.nn.functional as F\n",
    "import torch.optim as optim"
   ]
  },
  {
   "cell_type": "markdown",
   "metadata": {},
   "source": [
    "### 1.2. Layer initialization\n",
    "By default, Pytorch will apply Kaiming initialization to linear layers. However, I recommend you to always explicitly initialize you network by hand in the constructor."
   ]
  },
  {
   "cell_type": "code",
   "execution_count": 6,
   "metadata": {},
   "outputs": [],
   "source": [
    "class LinearNN(nn.Module):\n",
    "    def __init__(self, dim_input, dim_output):\n",
    "        super( LinearNN, self ).__init__()\n",
    "        self.affine = nn.Linear(dim_input,dim_output)\n",
    "        \n",
    "        self.init_parameters()\n",
    "\n",
    "    def init_parameters(self):\n",
    "        torch.nn.init.xavier_uniform_(self.affine.weight.data)\n",
    "        torch.nn.init.zeros_(self.affine.bias.data)\n",
    "        \n",
    "    def forward(self,x):\n",
    "        return self.affine(x)"
   ]
  },
  {
   "cell_type": "code",
   "execution_count": 66,
   "metadata": {},
   "outputs": [],
   "source": [
    "class nn_128_128_relu(nn.Module):\n",
    "    def __init__(self):\n",
    "        super( nn_128_128_relu, self ).__init__()\n",
    "        self.affine_1 = nn.Linear(784,128)\n",
    "        self.relu_1 = nn.ReLU()\n",
    "        \n",
    "        self.affine_2 = nn.Linear(128,128)\n",
    "        self.relu_2 = nn.ReLU()\n",
    "        \n",
    "        self.output = nn.Linear(128,10)\n",
    "        \n",
    "        self.init_parameters()\n",
    "\n",
    "    def init_parameters(self):\n",
    "        \n",
    "        self.affine_1 = nn.Linear(784,128)\n",
    "        self.relu_1 = nn.ReLU()\n",
    "        \n",
    "        self.affine_2 = nn.Linear(128,128)\n",
    "        self.relu_2 = nn.ReLU()\n",
    "        \n",
    "        self.output = nn.Linear(128,10)\n",
    "        \n",
    "        torch.nn.init.kaiming_uniform_(self.affine_1.weight.data)\n",
    "        torch.nn.init.kaiming_uniform_(self.affine_2.weight.data)\n",
    "        torch.nn.init.kaiming_uniform_(self.output.weight.data)\n",
    "        \n",
    "        torch.nn.init.zeros_(self.affine_1.bias.data)\n",
    "        torch.nn.init.zeros_(self.affine_2.bias.data)\n",
    "        torch.nn.init.zeros_(self.output.bias.data)\n",
    "        \n",
    "    def forward(self,x):\n",
    "        \n",
    "        z1 = self.relu_1( self.affine_1(x) )\n",
    "        z2 = self.relu_2( self.affine_2(z1) )\n",
    "        output = self.output(z2)\n",
    "        \n",
    "        return output"
   ]
  },
  {
   "cell_type": "code",
   "execution_count": 71,
   "metadata": {},
   "outputs": [],
   "source": [
    "class nn_128_128_tanh(nn.Module):\n",
    "    def __init__(self):\n",
    "        super( nn_128_128_tanh, self ).__init__()\n",
    "        self.affine_1 = nn.Linear(784,128)\n",
    "        self.tanh_1 = nn.Tanh()\n",
    "        \n",
    "        self.affine_2 = nn.Linear(128,128)\n",
    "        self.tanh_2 = nn.Tanh()\n",
    "        \n",
    "        self.output = nn.Linear(128,10)\n",
    "        \n",
    "        self.init_parameters()\n",
    "\n",
    "    def init_parameters(self):\n",
    "        \n",
    "        self.affine_1 = nn.Linear(784,128)\n",
    "        self.tanh_1 = nn.Tanh()\n",
    "        \n",
    "        self.affine_2 = nn.Linear(128,128)\n",
    "        self.tanh_2 = nn.Tanh()\n",
    "        \n",
    "        self.output = nn.Linear(128,10)\n",
    "        \n",
    "        torch.nn.init.xavier_uniform_(self.affine_1.weight.data)\n",
    "        torch.nn.init.xavier_uniform_(self.affine_2.weight.data)\n",
    "        torch.nn.init.xavier_uniform_(self.output.weight.data)\n",
    "        \n",
    "        torch.nn.init.zeros_(self.affine_1.bias.data)\n",
    "        torch.nn.init.zeros_(self.affine_2.bias.data)\n",
    "        torch.nn.init.zeros_(self.output.bias.data)\n",
    "        \n",
    "    def forward(self,x):\n",
    "        \n",
    "        z1 = self.tanh_1( self.affine_1(x) )\n",
    "        z2 = self.tanh_2( self.affine_2(z1) )\n",
    "        output = self.output(z2)\n",
    "        \n",
    "        return output"
   ]
  },
  {
   "cell_type": "code",
   "execution_count": 75,
   "metadata": {},
   "outputs": [],
   "source": [
    "class nn_128_128_sigmoid(nn.Module):\n",
    "    def __init__(self):\n",
    "        super( nn_128_128_sigmoid, self ).__init__()\n",
    "        self.affine_1 = nn.Linear(784,128)\n",
    "        self.sigmoid_1 = nn.Sigmoid()\n",
    "        \n",
    "        self.affine_2 = nn.Linear(128,128)\n",
    "        self.sigmoid_2 = nn.Sigmoid()\n",
    "        \n",
    "        self.output = nn.Linear(128,10)\n",
    "        \n",
    "        self.init_parameters()\n",
    "\n",
    "    def init_parameters(self):\n",
    "        \n",
    "        self.affine_1 = nn.Linear(784,128)\n",
    "        self.sigmoid_1 = nn.Sigmoid()\n",
    "        \n",
    "        self.affine_2 = nn.Linear(128,128)\n",
    "        self.sigmoid_2 = nn.Sigmoid()\n",
    "        \n",
    "        self.output = nn.Linear(128,10)\n",
    "        \n",
    "        torch.nn.init.xavier_uniform_(self.affine_1.weight.data)\n",
    "        torch.nn.init.xavier_uniform_(self.affine_2.weight.data)\n",
    "        torch.nn.init.xavier_uniform_(self.output.weight.data)\n",
    "        \n",
    "        torch.nn.init.zeros_(self.affine_1.bias.data)\n",
    "        torch.nn.init.zeros_(self.affine_2.bias.data)\n",
    "        torch.nn.init.zeros_(self.output.bias.data)\n",
    "        \n",
    "    def forward(self,x):\n",
    "        \n",
    "        z1 = self.sigmoid_1( self.affine_1(x) )\n",
    "        z2 = self.sigmoid_2( self.affine_2(z1) )\n",
    "        output = self.output(z2)\n",
    "        \n",
    "        return output"
   ]
  },
  {
   "cell_type": "code",
   "execution_count": 78,
   "metadata": {},
   "outputs": [],
   "source": [
    "class nn_128_64_32_16_relu(nn.Module):\n",
    "    def __init__(self):\n",
    "        super( nn_128_64_32_16_relu, self ).__init__()\n",
    "        self.affine_1 = nn.Linear(784,128)\n",
    "        self.relu_1 = nn.ReLU()\n",
    "        \n",
    "        self.affine_2 = nn.Linear(128,64)\n",
    "        self.relu_2 = nn.ReLU()\n",
    "        \n",
    "        self.affine_3 = nn.Linear(64,32)\n",
    "        self.relu_3 = nn.ReLU()\n",
    "        \n",
    "        self.affine_4 = nn.Linear(32,16)\n",
    "        self.relu_4 = nn.ReLU()\n",
    "        \n",
    "        self.output = nn.Linear(16,10)\n",
    "        \n",
    "        self.init_parameters()\n",
    "\n",
    "    def init_parameters(self):\n",
    "        \n",
    "        torch.nn.init.kaiming_uniform_(self.affine_1.weight.data)\n",
    "        torch.nn.init.kaiming_uniform_(self.affine_2.weight.data)\n",
    "        torch.nn.init.kaiming_uniform_(self.affine_3.weight.data)\n",
    "        torch.nn.init.kaiming_uniform_(self.affine_4.weight.data)\n",
    "        torch.nn.init.kaiming_uniform_(self.output.weight.data)\n",
    "        \n",
    "        torch.nn.init.zeros_(self.affine_1.bias.data)\n",
    "        torch.nn.init.zeros_(self.affine_2.bias.data)\n",
    "        torch.nn.init.zeros_(self.affine_3.bias.data)\n",
    "        torch.nn.init.zeros_(self.affine_4.bias.data)\n",
    "        torch.nn.init.zeros_(self.output.bias.data)\n",
    "        \n",
    "    def forward(self,x):\n",
    "        \n",
    "        z1 = self.relu_1( self.affine_1(x) )\n",
    "        z2 = self.relu_2( self.affine_2(z1) )\n",
    "        z3 = self.relu_3( self.affine_3(z2) )\n",
    "        z4 = self.relu_4( self.affine_4(z3) )\n",
    "        output = self.output(z4)\n",
    "        \n",
    "        return output"
   ]
  },
  {
   "cell_type": "code",
   "execution_count": 102,
   "metadata": {},
   "outputs": [],
   "source": [
    "class nn_128_64_32_16_tanh(nn.Module):\n",
    "    def __init__(self):\n",
    "        super( nn_128_64_32_16_tanh, self ).__init__()\n",
    "        self.affine_1 = nn.Linear(784,128)\n",
    "        self.tanh_1 = nn.Tanh()\n",
    "        \n",
    "        self.affine_2 = nn.Linear(128,64)\n",
    "        self.tanh_2 = nn.Tanh()\n",
    "        \n",
    "        self.affine_3 = nn.Linear(64,32)\n",
    "        self.tanh_3 = nn.Tanh()\n",
    "        \n",
    "        self.affine_4 = nn.Linear(32,16)\n",
    "        self.tanh_4 = nn.Tanh()\n",
    "        \n",
    "        self.output = nn.Linear(16,10)\n",
    "        self.dropout = nn.Dropout(0.1)        \n",
    "        \n",
    "        self.init_parameters()\n",
    "\n",
    "    def init_parameters(self):\n",
    "        \n",
    "        torch.nn.init.xavier_uniform_(self.affine_1.weight.data)\n",
    "        torch.nn.init.xavier_uniform_(self.affine_2.weight.data)\n",
    "        torch.nn.init.xavier_uniform_(self.affine_3.weight.data)\n",
    "        torch.nn.init.xavier_uniform_(self.affine_4.weight.data)\n",
    "        torch.nn.init.xavier_uniform_(self.output.weight.data)\n",
    "        \n",
    "        torch.nn.init.zeros_(self.affine_1.bias.data)\n",
    "        torch.nn.init.zeros_(self.affine_2.bias.data)\n",
    "        torch.nn.init.zeros_(self.affine_3.bias.data)\n",
    "        torch.nn.init.zeros_(self.affine_4.bias.data)\n",
    "        torch.nn.init.zeros_(self.output.bias.data)\n",
    "        \n",
    "    def forward(self,x):\n",
    "        \n",
    "        z1 = self.tanh_1(self.affine_1(x))\n",
    "        z2 = self.tanh_2(self.affine_2(z1))\n",
    "        z3 = self.tanh_3(self.affine_3(z2))\n",
    "        z4 = self.tanh_4(self.affine_4(z3))\n",
    "        output = self.output(z4)\n",
    "        \n",
    "        return output"
   ]
  },
  {
   "cell_type": "markdown",
   "metadata": {},
   "source": [
    "### 1.3. Regularization"
   ]
  },
  {
   "cell_type": "markdown",
   "metadata": {},
   "source": [
    "You can try two types of regularization (they can be combined together):\n",
    "\n",
    "* weight decay: it is a parameter of the optimizer\n",
    "* dropout: see slides"
   ]
  },
  {
   "cell_type": "markdown",
   "metadata": {},
   "source": [
    "### 1.4. Gradient clipping"
   ]
  },
  {
   "cell_type": "markdown",
   "metadata": {},
   "source": [
    "A commong trick for training neural networks is gradient clipping: if the norm of the gradient is too big, we rescale the gradient. This trick can be used to prevent exploding gradients and also to make \"too big steps\" in the wrong direction due the use of approximate gradient computation in SGD. Our training loop implements this gradient clipping."
   ]
  },
  {
   "cell_type": "markdown",
   "metadata": {},
   "source": [
    "### 1.5. Training loop"
   ]
  },
  {
   "cell_type": "markdown",
   "metadata": {},
   "source": [
    "** 1.5.1 About the batch size**\n",
    "\n",
    "The more images we take in each batch, the faster the training is, but also the less accurate. For future experiments, we will continue to use a batch of **10 images**, as this was proven to allow us get the highest accuracies for any architecture."
   ]
  },
  {
   "cell_type": "markdown",
   "metadata": {},
   "source": [
    "#### 1.5.2. About the activation functions\n",
    "\n",
    "In early experiments, we saw that the performance of neural networks trained with sigmoid activation functions was poorer when compared to reLU and tanh. For most of the future experiments, we will only consider the use of reLU and tanh in interchangeable ways, which yield to similar results."
   ]
  },
  {
   "cell_type": "code",
   "execution_count": 60,
   "metadata": {},
   "outputs": [],
   "source": [
    "def training_loop(network, optimizer, criterion, train_data, dev_data, test_data, n_epochs, batch_size):\n",
    "    \n",
    "    results = np.ndarray((n_epochs, 5))\n",
    "    \n",
    "    # --------------------------------------------------------------------------------------------\n",
    "        \n",
    "    trainingSize = train_data[0].shape[0]\n",
    "    \n",
    "    for epoch in range(n_epochs):\n",
    "        \n",
    "        print('>> epoch ', epoch)\n",
    "\n",
    "        #Shuffle training indexes\n",
    "        indexes = np.arange(trainingSize)\n",
    "        np.random.shuffle(indexes)\n",
    "\n",
    "        sumLoss = 0.0\n",
    "        first = 0\n",
    "        corrects_overall = 0\n",
    "        \n",
    "        # ----- Training loop ------\n",
    "        \n",
    "        n_acc = 0\n",
    "        while(first < trainingSize) :\n",
    "            \n",
    "            # When batch_size = 1, batch_input corresponds to one image.\n",
    "            batch_input = torch.cat(\n",
    "                [\n",
    "                    # we reshape the image tensor so it has dimension (1, 784)\n",
    "                    torch.from_numpy(picture).reshape(1, -1) for picture in train_data[0][indexes[first:first + batch_size]]\n",
    "                ],\n",
    "                    # we want to concatenate on the batch dimension\n",
    "                    dim=0\n",
    "            )\n",
    "\n",
    "            # When batch_size = 1, batch_label corresponds to the label of one image.\n",
    "            batch_label = torch.tensor(train_data[1][indexes[first:first + batch_size]])\n",
    "            first += batch_size\n",
    "                \n",
    "            # zero the parameter gradients    \n",
    "            optimizer.zero_grad()\n",
    "            \n",
    "            #Forward propagation\n",
    "            output = network.forward(batch_input)\n",
    "            \n",
    "            # Softmax >> to compute accuracy\n",
    "            probs_train = torch.softmax(output, dim=1)\n",
    "            output_train = probs_train.argmax(dim=1)\n",
    "\n",
    "            #Compute loss, loss backward gradient and optimize parameters\n",
    "            loss = criterion(output, batch_label)\n",
    "            loss.backward()\n",
    "            torch.nn.utils.clip_grad_value_(network.parameters(), 5.)\n",
    "            optimizer.step()\n",
    "            sumLoss += loss.item()\n",
    "        \n",
    "            # Compute correctly clasified images\n",
    "            corrects = (output_train == batch_label)\n",
    "            corrects_overall += corrects.sum()\n",
    "        \n",
    "        # Overall accuracy and error for training\n",
    "        train_acc = corrects_overall.item() / trainingSize\n",
    "        avg_loss = sumLoss/trainingSize\n",
    "        \n",
    "        # Store performance metrics\n",
    "        results[epoch, 0] = avg_loss\n",
    "        results[epoch, 1] = train_acc\n",
    "        \n",
    "        print(' ------ >> Training finished!')\n",
    "        \n",
    "        \n",
    "        # ------ Evaluation >> Dev set -------\n",
    "              \n",
    "        devSize = dev_data[0].shape[0]\n",
    "        batch_size_dev = batch_size\n",
    "        indexes_dev = np.arange(devSize)\n",
    "        n_dev = 0\n",
    "        first_dev = 0\n",
    "        corrects_dev_overall = 0\n",
    "        \n",
    "        while(first_dev < devSize) :\n",
    "            \n",
    "            batch_input_dev = torch.cat(\n",
    "                [torch.from_numpy(pic).reshape(1, -1) for pic in dev_data[0][indexes_dev[first_dev:first_dev + batch_size_dev]]],\n",
    "                dim=0)\n",
    "            \n",
    "            batch_label_dev = torch.tensor(dev_data[1][indexes_dev[first_dev:first_dev + batch_size_dev]])\n",
    "            first_dev += batch_size_dev\n",
    "            \n",
    "            #Forward propagation and output\n",
    "            probs_dev = torch.softmax(network.forward(batch_input_dev), dim=1)\n",
    "            output_dev = probs_dev.argmax(dim=1)\n",
    "            \n",
    "            # Compute correctly clasified images\n",
    "            corrects_dev = (output_dev == batch_label_dev)\n",
    "            corrects_dev_overall += corrects_dev.sum()\n",
    "        \n",
    "        print(' -------- >>  Dev set testing finished!')\n",
    "\n",
    "        dev_acc = corrects_dev_overall.item() / devSize\n",
    "        \n",
    "        # params = list(network.parameters())\n",
    "        \n",
    "        # Store performance metrics\n",
    "        results[epoch, 2] = dev_acc\n",
    "    \n",
    "    \n",
    "     # ------ Evaluation >> Test set -------\n",
    "              \n",
    "    testSize = test_data[0].shape[0]\n",
    "    batch_size_test = batch_size\n",
    "    indexes_test = np.arange(testSize)\n",
    "    n_test = 0\n",
    "    first_test = 0\n",
    "    corrects_test_overall = 0\n",
    "\n",
    "    while(first_test < testSize) :\n",
    "\n",
    "        batch_input_test = torch.cat(\n",
    "            [torch.from_numpy(pic).reshape(1, -1) for pic in test_data[0][indexes_test[first_test:first_test + batch_size_test]]],\n",
    "            dim=0)\n",
    "\n",
    "        batch_label_test = torch.tensor(test_data[1][indexes_test[first_test:first_test + batch_size_test]])\n",
    "        first_test += batch_size_test\n",
    "\n",
    "        #Forward propagation and output\n",
    "        probs_test = torch.softmax(network.forward(batch_input_test), dim=1)\n",
    "        output_test = probs_test.argmax(dim=1)\n",
    "\n",
    "        # Compute correctly clasified images\n",
    "        corrects_test = (output_test == batch_label_test)\n",
    "        corrects_test_overall += corrects_test.sum()\n",
    "    \n",
    "    print(' ----------- >> Test set testing finished!')\n",
    "    \n",
    "    test_acc = corrects_test_overall.item() / testSize\n",
    "    \n",
    "    # Store performance metrics\n",
    "    results[:, 4] = test_acc\n",
    "    \n",
    "    \n",
    "    # ------ Performance metrics -------\n",
    "    \n",
    "    print('')\n",
    "    print('>> ----- PERFORMANCE METRICS ------ <<')\n",
    "    print('')\n",
    "    print('Average loss: >> ', avg_loss)\n",
    "    print('Training accuracy: >> ', train_acc)\n",
    "    print('Dev accuracy: >> ', dev_acc)\n",
    "    print('Test accuracy: >> ', test_acc)\n",
    "\n",
    "    return results"
   ]
  },
  {
   "cell_type": "markdown",
   "metadata": {},
   "source": [
    "### Experiment 1: LinearNN (no activation function)"
   ]
  },
  {
   "cell_type": "code",
   "execution_count": 89,
   "metadata": {},
   "outputs": [
    {
     "name": "stdout",
     "output_type": "stream",
     "text": [
      ">> epoch  0\n",
      " ------ >> Training finished!\n",
      " -------- >>  Dev set testing finished!\n",
      ">> epoch  1\n",
      " ------ >> Training finished!\n",
      " -------- >>  Dev set testing finished!\n",
      ">> epoch  2\n",
      " ------ >> Training finished!\n",
      " -------- >>  Dev set testing finished!\n",
      ">> epoch  3\n",
      " ------ >> Training finished!\n",
      " -------- >>  Dev set testing finished!\n",
      ">> epoch  4\n",
      " ------ >> Training finished!\n",
      " -------- >>  Dev set testing finished!\n",
      ">> epoch  5\n",
      " ------ >> Training finished!\n",
      " -------- >>  Dev set testing finished!\n",
      ">> epoch  6\n",
      " ------ >> Training finished!\n",
      " -------- >>  Dev set testing finished!\n",
      ">> epoch  7\n",
      " ------ >> Training finished!\n",
      " -------- >>  Dev set testing finished!\n",
      ">> epoch  8\n",
      " ------ >> Training finished!\n",
      " -------- >>  Dev set testing finished!\n",
      ">> epoch  9\n",
      " ------ >> Training finished!\n",
      " -------- >>  Dev set testing finished!\n",
      ">> epoch  10\n",
      " ------ >> Training finished!\n",
      " -------- >>  Dev set testing finished!\n",
      ">> epoch  11\n",
      " ------ >> Training finished!\n",
      " -------- >>  Dev set testing finished!\n",
      ">> epoch  12\n",
      " ------ >> Training finished!\n",
      " -------- >>  Dev set testing finished!\n",
      ">> epoch  13\n",
      " ------ >> Training finished!\n",
      " -------- >>  Dev set testing finished!\n",
      ">> epoch  14\n",
      " ------ >> Training finished!\n",
      " -------- >>  Dev set testing finished!\n",
      " ----------- >> Test set testing finished!\n",
      "\n",
      ">> ----- PERFORMANCE METRICS ------ <<\n",
      "\n",
      "Average loss: >>  0.028114394437773152\n",
      "Training accuracy: >>  0.92218\n",
      "Dev accuracy: >>  0.9247\n",
      "Test accuracy: >>  0.9201\n"
     ]
    }
   ],
   "source": [
    "dim_input = 28*28\n",
    "dim_output = 10\n",
    "\n",
    "#network = nn_128_128()\n",
    "network = LinearNN(dim_input,dim_output)\n",
    "\n",
    "optimizer = optim.SGD(network.parameters(), lr=0.01) #momentum=0.9\n",
    "criterion = nn.CrossEntropyLoss()\n",
    "\n",
    "results = training_loop(network, optimizer, criterion, train_data, dev_data, test_data, n_epochs=15, batch_size=10)\n",
    "\n",
    "# PATH = './linearNN.pth'\n",
    "# torch.save(network.state_dict(), PATH)"
   ]
  },
  {
   "cell_type": "code",
   "execution_count": 90,
   "metadata": {},
   "outputs": [
    {
     "data": {
      "text/plain": [
       "Text(0,0.5,'accuracy')"
      ]
     },
     "execution_count": 90,
     "metadata": {},
     "output_type": "execute_result"
    },
    {
     "data": {
      "image/png": "[encoded data removed]",
      "text/plain": [
       "<Figure size 432x288 with 1 Axes>"
      ]
     },
     "metadata": {},
     "output_type": "display_data"
    }
   ],
   "source": [
    "plt.plot(results[:,1], 'g', label=\"TRAIN acc\")\n",
    "plt.plot(results[:,2], 'b', label=\"DEV acc\")\n",
    "plt.plot(results[:,4], 'r', label=\"TEST acc\")\n",
    "plt.legend(loc='lower right')\n",
    "plt.xlabel(\"epochs\")\n",
    "plt.ylabel(\"accuracy\")"
   ]
  },
  {
   "cell_type": "markdown",
   "metadata": {},
   "source": [
    "### Experiment 2: 128 x 128 architecture and reLU"
   ]
  },
  {
   "cell_type": "code",
   "execution_count": 91,
   "metadata": {},
   "outputs": [
    {
     "name": "stdout",
     "output_type": "stream",
     "text": [
      ">> epoch  0\n",
      " ------ >> Training finished!\n",
      " -------- >>  Dev set testing finished!\n",
      ">> epoch  1\n",
      " ------ >> Training finished!\n",
      " -------- >>  Dev set testing finished!\n",
      ">> epoch  2\n",
      " ------ >> Training finished!\n",
      " -------- >>  Dev set testing finished!\n",
      ">> epoch  3\n",
      " ------ >> Training finished!\n",
      " -------- >>  Dev set testing finished!\n",
      ">> epoch  4\n",
      " ------ >> Training finished!\n",
      " -------- >>  Dev set testing finished!\n",
      " ----------- >> Test set testing finished!\n",
      "\n",
      ">> ----- PERFORMANCE METRICS ------ <<\n",
      "\n",
      "Average loss: >>  0.009509345146247652\n",
      "Training accuracy: >>  0.97186\n",
      "Dev accuracy: >>  0.9697\n",
      "Test accuracy: >>  0.9678\n"
     ]
    }
   ],
   "source": [
    "dim_input = 28*28\n",
    "dim_output = 10\n",
    "\n",
    "network = nn_128_128_relu()\n",
    "\n",
    "optimizer = optim.SGD(network.parameters(), lr=0.01) #momentum=0.9\n",
    "criterion = nn.CrossEntropyLoss()\n",
    "\n",
    "results = training_loop(network, optimizer, criterion, train_data, dev_data, test_data, n_epochs=5, batch_size=10)\n",
    "\n",
    "# PATH = './linearNN.pth'\n",
    "# torch.save(network.state_dict(), PATH)"
   ]
  },
  {
   "cell_type": "code",
   "execution_count": 92,
   "metadata": {},
   "outputs": [
    {
     "data": {
      "text/plain": [
       "Text(0,0.5,'accuracy')"
      ]
     },
     "execution_count": 92,
     "metadata": {},
     "output_type": "execute_result"
    },
    {
     "data": {
      "image/png": "[encoded data removed]",
      "text/plain": [
       "<Figure size 432x288 with 1 Axes>"
      ]
     },
     "metadata": {},
     "output_type": "display_data"
    }
   ],
   "source": [
    "plt.plot(results[:,1], 'g', label=\"TRAIN acc\")\n",
    "plt.plot(results[:,2], 'b', label=\"DEV acc\")\n",
    "plt.plot(results[:,4], 'r', label=\"TEST acc\")\n",
    "plt.legend(loc='lower right')\n",
    "plt.xlabel(\"epochs\")\n",
    "plt.ylabel(\"accuracy\")"
   ]
  },
  {
   "cell_type": "markdown",
   "metadata": {},
   "source": [
    "### Experiment 3: 128 x 128 architecture and tanh"
   ]
  },
  {
   "cell_type": "code",
   "execution_count": 93,
   "metadata": {},
   "outputs": [
    {
     "name": "stdout",
     "output_type": "stream",
     "text": [
      ">> epoch  0\n",
      " ------ >> Training finished!\n",
      " -------- >>  Dev set testing finished!\n",
      ">> epoch  1\n",
      " ------ >> Training finished!\n",
      " -------- >>  Dev set testing finished!\n",
      ">> epoch  2\n",
      " ------ >> Training finished!\n",
      " -------- >>  Dev set testing finished!\n",
      ">> epoch  3\n",
      " ------ >> Training finished!\n",
      " -------- >>  Dev set testing finished!\n",
      ">> epoch  4\n",
      " ------ >> Training finished!\n",
      " -------- >>  Dev set testing finished!\n",
      " ----------- >> Test set testing finished!\n",
      "\n",
      ">> ----- PERFORMANCE METRICS ------ <<\n",
      "\n",
      "Average loss: >>  0.013517699503824115\n",
      "Training accuracy: >>  0.95984\n",
      "Dev accuracy: >>  0.9653\n",
      "Test accuracy: >>  0.9599\n"
     ]
    }
   ],
   "source": [
    "dim_input = 28*28\n",
    "dim_output = 10\n",
    "\n",
    "network = nn_128_128_tanh()\n",
    "\n",
    "optimizer = optim.SGD(network.parameters(), lr=0.01) #momentum=0.9\n",
    "criterion = nn.CrossEntropyLoss()\n",
    "\n",
    "results = training_loop(network, optimizer, criterion, train_data, dev_data, test_data, n_epochs=5, batch_size=10)\n",
    "\n",
    "# PATH = './linearNN.pth'\n",
    "# torch.save(network.state_dict(), PATH)"
   ]
  },
  {
   "cell_type": "code",
   "execution_count": 94,
   "metadata": {},
   "outputs": [
    {
     "data": {
      "text/plain": [
       "Text(0,0.5,'accuracy')"
      ]
     },
     "execution_count": 94,
     "metadata": {},
     "output_type": "execute_result"
    },
    {
     "data": {
      "image/png": "[encoded data removed]",
      "text/plain": [
       "<Figure size 432x288 with 1 Axes>"
      ]
     },
     "metadata": {},
     "output_type": "display_data"
    }
   ],
   "source": [
    "plt.plot(results[:,1], 'g', label=\"TRAIN acc\")\n",
    "plt.plot(results[:,2], 'b', label=\"DEV acc\")\n",
    "plt.plot(results[:,4], 'r', label=\"TEST acc\")\n",
    "plt.legend(loc='lower right')\n",
    "plt.xlabel(\"epochs\")\n",
    "plt.ylabel(\"accuracy\")"
   ]
  },
  {
   "cell_type": "markdown",
   "metadata": {},
   "source": [
    "### Experiment 4: 128 x 128 architecture and sigmoid"
   ]
  },
  {
   "cell_type": "code",
   "execution_count": 95,
   "metadata": {},
   "outputs": [
    {
     "name": "stdout",
     "output_type": "stream",
     "text": [
      ">> epoch  0\n",
      " ------ >> Training finished!\n",
      " -------- >>  Dev set testing finished!\n",
      ">> epoch  1\n",
      " ------ >> Training finished!\n",
      " -------- >>  Dev set testing finished!\n",
      ">> epoch  2\n",
      " ------ >> Training finished!\n",
      " -------- >>  Dev set testing finished!\n",
      ">> epoch  3\n",
      " ------ >> Training finished!\n",
      " -------- >>  Dev set testing finished!\n",
      ">> epoch  4\n",
      " ------ >> Training finished!\n",
      " -------- >>  Dev set testing finished!\n",
      " ----------- >> Test set testing finished!\n",
      "\n",
      ">> ----- PERFORMANCE METRICS ------ <<\n",
      "\n",
      "Average loss: >>  0.035048148269988595\n",
      "Training accuracy: >>  0.90018\n",
      "Dev accuracy: >>  0.913\n",
      "Test accuracy: >>  0.909\n"
     ]
    }
   ],
   "source": [
    "dim_input = 28*28\n",
    "dim_output = 10\n",
    "\n",
    "network = nn_128_128_sigmoid()\n",
    "\n",
    "optimizer = optim.SGD(network.parameters(), lr=0.01, ) #momentum=0.9\n",
    "criterion = nn.CrossEntropyLoss()\n",
    "\n",
    "results = training_loop(network, optimizer, criterion, train_data, dev_data, test_data, n_epochs=5, batch_size=10)\n",
    "\n",
    "# PATH = './linearNN.pth'\n",
    "# torch.save(network.state_dict(), PATH)"
   ]
  },
  {
   "cell_type": "code",
   "execution_count": 96,
   "metadata": {},
   "outputs": [
    {
     "data": {
      "text/plain": [
       "Text(0,0.5,'accuracy')"
      ]
     },
     "execution_count": 96,
     "metadata": {},
     "output_type": "execute_result"
    },
    {
     "data": {
      "image/png": "[encoded data removed]",
      "text/plain": [
       "<Figure size 432x288 with 1 Axes>"
      ]
     },
     "metadata": {},
     "output_type": "display_data"
    }
   ],
   "source": [
    "plt.plot(results[:,1], 'g', label=\"TRAIN acc\")\n",
    "plt.plot(results[:,2], 'b', label=\"DEV acc\")\n",
    "plt.plot(results[:,4], 'r', label=\"TEST acc\")\n",
    "plt.legend(loc='lower right')\n",
    "plt.xlabel(\"epochs\")\n",
    "plt.ylabel(\"accuracy\")"
   ]
  },
  {
   "cell_type": "markdown",
   "metadata": {},
   "source": [
    "#### Considering sigmoid function for a batch size of 100 (experiment 4)"
   ]
  },
  {
   "cell_type": "code",
   "execution_count": 77,
   "metadata": {},
   "outputs": [
    {
     "data": {
      "text/plain": [
       "Text(0,0.5,'accuracy')"
      ]
     },
     "execution_count": 77,
     "metadata": {},
     "output_type": "execute_result"
    },
    {
     "data": {
      "image/png": "[encoded data removed]",
      "text/plain": [
       "<Figure size 432x288 with 1 Axes>"
      ]
     },
     "metadata": {},
     "output_type": "display_data"
    }
   ],
   "source": [
    "plt.plot(results[:,1], 'g', label=\"TRAIN acc\")\n",
    "plt.plot(results[:,2], 'b', label=\"DEV acc\")\n",
    "plt.plot(results[:,4], 'r', label=\"TEST acc\")\n",
    "plt.legend(loc='lower right')\n",
    "plt.xlabel(\"epochs\")\n",
    "plt.ylabel(\"accuracy\")"
   ]
  },
  {
   "cell_type": "markdown",
   "metadata": {},
   "source": [
    "We will discard sigmoid activation function for future experiments, as the accuracy achieved is not that good when compared to reLU and sigmoid"
   ]
  },
  {
   "cell_type": "markdown",
   "metadata": {},
   "source": [
    "### Experiment 5: 128 x 64 x 32 x 16 and reLU"
   ]
  },
  {
   "cell_type": "markdown",
   "metadata": {},
   "source": [
    "#### Without L2 regularization (or weight decay)"
   ]
  },
  {
   "cell_type": "code",
   "execution_count": 97,
   "metadata": {},
   "outputs": [
    {
     "name": "stdout",
     "output_type": "stream",
     "text": [
      ">> epoch  0\n",
      " ------ >> Training finished!\n",
      " -------- >>  Dev set testing finished!\n",
      ">> epoch  1\n",
      " ------ >> Training finished!\n",
      " -------- >>  Dev set testing finished!\n",
      ">> epoch  2\n",
      " ------ >> Training finished!\n",
      " -------- >>  Dev set testing finished!\n",
      ">> epoch  3\n",
      " ------ >> Training finished!\n",
      " -------- >>  Dev set testing finished!\n",
      ">> epoch  4\n",
      " ------ >> Training finished!\n",
      " -------- >>  Dev set testing finished!\n",
      " ----------- >> Test set testing finished!\n",
      "\n",
      ">> ----- PERFORMANCE METRICS ------ <<\n",
      "\n",
      "Average loss: >>  0.007275805850655161\n",
      "Training accuracy: >>  0.97774\n",
      "Dev accuracy: >>  0.9737\n",
      "Test accuracy: >>  0.9725\n"
     ]
    }
   ],
   "source": [
    "dim_input = 28*28\n",
    "dim_output = 10\n",
    "\n",
    "network = nn_128_64_32_16_relu()\n",
    "\n",
    "optimizer = optim.SGD(network.parameters(), lr=0.01)\n",
    "criterion = nn.CrossEntropyLoss()\n",
    "\n",
    "results = training_loop(network, optimizer, criterion, train_data, dev_data, test_data, n_epochs=5, batch_size=10)\n",
    "\n",
    "# PATH = './linearNN.pth'\n",
    "# torch.save(network.state_dict(), PATH)"
   ]
  },
  {
   "cell_type": "markdown",
   "metadata": {},
   "source": [
    "#### With L2 regularization (or weight decay)"
   ]
  },
  {
   "cell_type": "code",
   "execution_count": 101,
   "metadata": {},
   "outputs": [
    {
     "name": "stdout",
     "output_type": "stream",
     "text": [
      ">> epoch  0\n",
      " ------ >> Training finished!\n",
      " -------- >>  Dev set testing finished!\n",
      ">> epoch  1\n",
      " ------ >> Training finished!\n",
      " -------- >>  Dev set testing finished!\n",
      ">> epoch  2\n",
      " ------ >> Training finished!\n",
      " -------- >>  Dev set testing finished!\n",
      ">> epoch  3\n",
      " ------ >> Training finished!\n",
      " -------- >>  Dev set testing finished!\n",
      ">> epoch  4\n",
      " ------ >> Training finished!\n",
      " -------- >>  Dev set testing finished!\n",
      " ----------- >> Test set testing finished!\n",
      "\n",
      ">> ----- PERFORMANCE METRICS ------ <<\n",
      "\n",
      "Average loss: >>  0.006986386197958054\n",
      "Training accuracy: >>  0.97848\n",
      "Dev accuracy: >>  0.9717\n",
      "Test accuracy: >>  0.9665\n"
     ]
    }
   ],
   "source": [
    "dim_input = 28*28\n",
    "dim_output = 10\n",
    "\n",
    "network = nn_128_64_32_16_relu()\n",
    "\n",
    "optimizer = optim.SGD(network.parameters(), lr=0.01, weight_decay=1e-5)\n",
    "criterion = nn.CrossEntropyLoss()\n",
    "\n",
    "results = training_loop(network, optimizer, criterion, train_data, dev_data, test_data, n_epochs=5, batch_size=10)\n",
    "\n",
    "# PATH = './linearNN.pth'\n",
    "# torch.save(network.state_dict(), PATH)"
   ]
  },
  {
   "cell_type": "markdown",
   "metadata": {},
   "source": [
    "#### Batch size = 1000 (experiment 5)"
   ]
  },
  {
   "cell_type": "code",
   "execution_count": 82,
   "metadata": {},
   "outputs": [
    {
     "data": {
      "text/plain": [
       "Text(0,0.5,'accuracy')"
      ]
     },
     "execution_count": 82,
     "metadata": {},
     "output_type": "execute_result"
    },
    {
     "data": {
      "image/png": "[encoded data removed]",
      "text/plain": [
       "<Figure size 432x288 with 1 Axes>"
      ]
     },
     "metadata": {},
     "output_type": "display_data"
    }
   ],
   "source": [
    "plt.plot(results[:,1], 'g', label=\"TRAIN acc\")\n",
    "plt.plot(results[:,2], 'b', label=\"DEV acc\")\n",
    "plt.plot(results[:,4], 'r', label=\"TEST acc\")\n",
    "plt.legend(loc='lower right')\n",
    "plt.xlabel(\"epochs\")\n",
    "plt.ylabel(\"accuracy\")"
   ]
  },
  {
   "cell_type": "markdown",
   "metadata": {},
   "source": [
    "#### Batch size = 100 (experiment 5)"
   ]
  },
  {
   "cell_type": "code",
   "execution_count": 80,
   "metadata": {},
   "outputs": [
    {
     "data": {
      "text/plain": [
       "Text(0,0.5,'accuracy')"
      ]
     },
     "execution_count": 80,
     "metadata": {},
     "output_type": "execute_result"
    },
    {
     "data": {
      "image/png": "[encoded data removed]",
      "text/plain": [
       "<Figure size 432x288 with 1 Axes>"
      ]
     },
     "metadata": {},
     "output_type": "display_data"
    }
   ],
   "source": [
    "plt.plot(results[:,1], 'g', label=\"TRAIN acc\")\n",
    "plt.plot(results[:,2], 'b', label=\"DEV acc\")\n",
    "plt.plot(results[:,4], 'r', label=\"TEST acc\")\n",
    "plt.legend(loc='lower right')\n",
    "plt.xlabel(\"epochs\")\n",
    "plt.ylabel(\"accuracy\")"
   ]
  },
  {
   "cell_type": "markdown",
   "metadata": {},
   "source": [
    "#### Batch size = 50 (experiment 5)"
   ]
  },
  {
   "cell_type": "code",
   "execution_count": 84,
   "metadata": {},
   "outputs": [
    {
     "data": {
      "text/plain": [
       "Text(0,0.5,'accuracy')"
      ]
     },
     "execution_count": 84,
     "metadata": {},
     "output_type": "execute_result"
    },
    {
     "data": {
      "image/png": "[encoded data removed]",
      "text/plain": [
       "<Figure size 432x288 with 1 Axes>"
      ]
     },
     "metadata": {},
     "output_type": "display_data"
    }
   ],
   "source": [
    "plt.plot(results[:,1], 'g', label=\"TRAIN acc\")\n",
    "plt.plot(results[:,2], 'b', label=\"DEV acc\")\n",
    "plt.plot(results[:,4], 'r', label=\"TEST acc\")\n",
    "plt.legend(loc='lower right')\n",
    "plt.xlabel(\"epochs\")\n",
    "plt.ylabel(\"accuracy\")"
   ]
  },
  {
   "cell_type": "markdown",
   "metadata": {},
   "source": [
    "#### Batch size = 30 (experiment 5)"
   ]
  },
  {
   "cell_type": "code",
   "execution_count": 88,
   "metadata": {},
   "outputs": [
    {
     "data": {
      "text/plain": [
       "Text(0,0.5,'accuracy')"
      ]
     },
     "execution_count": 88,
     "metadata": {},
     "output_type": "execute_result"
    },
    {
     "data": {
      "image/png": "[encoded data removed]",
      "text/plain": [
       "<Figure size 432x288 with 1 Axes>"
      ]
     },
     "metadata": {},
     "output_type": "display_data"
    }
   ],
   "source": [
    "plt.plot(results[:,1], 'g', label=\"TRAIN acc\")\n",
    "plt.plot(results[:,2], 'b', label=\"DEV acc\")\n",
    "plt.plot(results[:,4], 'r', label=\"TEST acc\")\n",
    "plt.legend(loc='lower right')\n",
    "plt.xlabel(\"epochs\")\n",
    "plt.ylabel(\"accuracy\")"
   ]
  },
  {
   "cell_type": "markdown",
   "metadata": {},
   "source": [
    "#### Batch size = 10 (experiment 5) (no regularization)"
   ]
  },
  {
   "cell_type": "code",
   "execution_count": 86,
   "metadata": {},
   "outputs": [
    {
     "data": {
      "text/plain": [
       "Text(0,0.5,'accuracy')"
      ]
     },
     "execution_count": 86,
     "metadata": {},
     "output_type": "execute_result"
    },
    {
     "data": {
      "image/png": "[encoded data removed]",
      "text/plain": [
       "<Figure size 432x288 with 1 Axes>"
      ]
     },
     "metadata": {},
     "output_type": "display_data"
    }
   ],
   "source": [
    "plt.plot(results[:,1], 'g', label=\"TRAIN acc\")\n",
    "plt.plot(results[:,2], 'b', label=\"DEV acc\")\n",
    "plt.plot(results[:,4], 'r', label=\"TEST acc\")\n",
    "plt.legend(loc='lower right')\n",
    "plt.xlabel(\"epochs\")\n",
    "plt.ylabel(\"accuracy\")"
   ]
  },
  {
   "cell_type": "markdown",
   "metadata": {},
   "source": [
    "### Experiment 6: 128 x 64 x 32 x 16 and tanh"
   ]
  },
  {
   "cell_type": "markdown",
   "metadata": {},
   "source": [
    "#### Without L2 regularization"
   ]
  },
  {
   "cell_type": "code",
   "execution_count": 99,
   "metadata": {},
   "outputs": [
    {
     "name": "stdout",
     "output_type": "stream",
     "text": [
      ">> epoch  0\n",
      " ------ >> Training finished!\n",
      " -------- >>  Dev set testing finished!\n",
      ">> epoch  1\n",
      " ------ >> Training finished!\n",
      " -------- >>  Dev set testing finished!\n",
      ">> epoch  2\n",
      " ------ >> Training finished!\n",
      " -------- >>  Dev set testing finished!\n",
      ">> epoch  3\n",
      " ------ >> Training finished!\n",
      " -------- >>  Dev set testing finished!\n",
      ">> epoch  4\n",
      " ------ >> Training finished!\n",
      " -------- >>  Dev set testing finished!\n",
      " ----------- >> Test set testing finished!\n",
      "\n",
      ">> ----- PERFORMANCE METRICS ------ <<\n",
      "\n",
      "Average loss: >>  0.010110688495091162\n",
      "Training accuracy: >>  0.97092\n",
      "Dev accuracy: >>  0.9685\n",
      "Test accuracy: >>  0.9643\n"
     ]
    }
   ],
   "source": [
    "dim_input = 28*28\n",
    "dim_output = 10\n",
    "\n",
    "network = nn_128_64_32_16_tanh()\n",
    "\n",
    "optimizer = optim.SGD(network.parameters(), lr=0.01)\n",
    "criterion = nn.CrossEntropyLoss()\n",
    "\n",
    "results = training_loop(network, optimizer, criterion, train_data, dev_data, test_data, n_epochs=5, batch_size=10)\n",
    "\n",
    "# PATH = './linearNN.pth'\n",
    "# torch.save(network.state_dict(), PATH)"
   ]
  },
  {
   "cell_type": "markdown",
   "metadata": {},
   "source": [
    "#### With L2 regularization"
   ]
  },
  {
   "cell_type": "code",
   "execution_count": 100,
   "metadata": {},
   "outputs": [
    {
     "name": "stdout",
     "output_type": "stream",
     "text": [
      ">> epoch  0\n",
      " ------ >> Training finished!\n",
      " -------- >>  Dev set testing finished!\n",
      ">> epoch  1\n",
      " ------ >> Training finished!\n",
      " -------- >>  Dev set testing finished!\n",
      ">> epoch  2\n",
      " ------ >> Training finished!\n",
      " -------- >>  Dev set testing finished!\n",
      ">> epoch  3\n",
      " ------ >> Training finished!\n",
      " -------- >>  Dev set testing finished!\n",
      ">> epoch  4\n",
      " ------ >> Training finished!\n",
      " -------- >>  Dev set testing finished!\n",
      " ----------- >> Test set testing finished!\n",
      "\n",
      ">> ----- PERFORMANCE METRICS ------ <<\n",
      "\n",
      "Average loss: >>  0.010042550360127352\n",
      "Training accuracy: >>  0.97106\n",
      "Dev accuracy: >>  0.9692\n",
      "Test accuracy: >>  0.966\n"
     ]
    }
   ],
   "source": [
    "dim_input = 28*28\n",
    "dim_output = 10\n",
    "\n",
    "network = nn_128_64_32_16_tanh()\n",
    "\n",
    "optimizer = optim.SGD(network.parameters(), lr=0.01, weight_decay=1e-5)\n",
    "criterion = nn.CrossEntropyLoss()\n",
    "\n",
    "results = training_loop(network, optimizer, criterion, train_data, dev_data, test_data, n_epochs=5, batch_size=10)\n",
    "\n",
    "# PATH = './linearNN.pth'\n",
    "# torch.save(network.state_dict(), PATH)"
   ]
  },
  {
   "cell_type": "markdown",
   "metadata": {},
   "source": [
    "#### Considering dropout = 0.01"
   ]
  },
  {
   "cell_type": "code",
   "execution_count": 103,
   "metadata": {},
   "outputs": [
    {
     "name": "stdout",
     "output_type": "stream",
     "text": [
      ">> epoch  0\n",
      " ------ >> Training finished!\n",
      " -------- >>  Dev set testing finished!\n",
      ">> epoch  1\n",
      " ------ >> Training finished!\n",
      " -------- >>  Dev set testing finished!\n",
      ">> epoch  2\n",
      " ------ >> Training finished!\n",
      " -------- >>  Dev set testing finished!\n",
      ">> epoch  3\n",
      " ------ >> Training finished!\n",
      " -------- >>  Dev set testing finished!\n",
      ">> epoch  4\n",
      " ------ >> Training finished!\n",
      " -------- >>  Dev set testing finished!\n",
      " ----------- >> Test set testing finished!\n",
      "\n",
      ">> ----- PERFORMANCE METRICS ------ <<\n",
      "\n",
      "Average loss: >>  0.010497900354093872\n",
      "Training accuracy: >>  0.96886\n",
      "Dev accuracy: >>  0.9673\n",
      "Test accuracy: >>  0.9658\n"
     ]
    }
   ],
   "source": [
    "dim_input = 28*28\n",
    "dim_output = 10\n",
    "\n",
    "network = nn_128_64_32_16_tanh()\n",
    "\n",
    "optimizer = optim.SGD(network.parameters(), lr=0.01)\n",
    "criterion = nn.CrossEntropyLoss()\n",
    "\n",
    "results = training_loop(network, optimizer, criterion, train_data, dev_data, test_data, n_epochs=5, batch_size=10)\n",
    "\n",
    "# PATH = './linearNN.pth'\n",
    "# torch.save(network.state_dict(), PATH)"
   ]
  }
 ],
 "metadata": {
  "kernelspec": {
   "display_name": "Python 3",
   "language": "python",
   "name": "python3"
  },
  "language_info": {
   "codemirror_mode": {
    "name": "ipython",
    "version": 3
   },
   "file_extension": ".py",
   "mimetype": "text/x-python",
   "name": "python",
   "nbconvert_exporter": "python",
   "pygments_lexer": "ipython3",
   "version": "3.6.5"
  }
 },
 "nbformat": 4,
 "nbformat_minor": 2
}
